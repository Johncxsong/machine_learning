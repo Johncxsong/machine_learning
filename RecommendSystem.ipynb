{
 "cells": [
  {
   "cell_type": "code",
   "execution_count": 3,
   "metadata": {
    "colab": {
     "base_uri": "https://localhost:8080/"
    },
    "id": "fqBYN4W7MoRy",
    "outputId": "29dacbe9-94d5-4e75-aeb2-fe0aa06fdcdd"
   },
   "outputs": [
    {
     "name": "stdout",
     "output_type": "stream",
     "text": [
      "INFSCI 2165 ADV Topics Data Mining\n",
      "John Song(chs342@pitt.edu)\n",
      "Homework 2_resubmit\n",
      "12/11/2023\n"
     ]
    }
   ],
   "source": [
    "print(\"INFSCI 2165 ADV Topics Data Mining\")\n",
    "print('John Song(chs342@pitt.edu)')\n",
    "print('Homework 2_resubmit')\n",
    "print('12/11/2023')"
   ]
  },
  {
   "cell_type": "code",
   "execution_count": null,
   "metadata": {
    "colab": {
     "base_uri": "https://localhost:8080/"
    },
    "id": "upXPiAJkMxyE",
    "outputId": "ce56a8dd-c294-4adc-be19-4cef520dfb3b"
   },
   "outputs": [
    {
     "name": "stdout",
     "output_type": "stream",
     "text": [
      "Drive already mounted at /content/drive/; to attempt to forcibly remount, call drive.mount(\"/content/drive/\", force_remount=True).\n",
      "total 6590773\n",
      "-rw------- 1 root root 2610540665 Oct  1 00:54 data.csv\n",
      "-rw------- 1 root root     277930 Oct 23 15:39 Data_mining_hw1.ipynb\n",
      "-rw------- 1 root root     212685 Oct 23 20:38 data_mining_hw2.ipynb\n",
      "-rw------- 1 root root     577547 Nov 13  2019 movie_titles.csv\n",
      "-rw------- 1 root root     594939 Oct  2 18:40 movie_titlesUpdate.csv\n",
      "-rw------- 1 root root   10782692 Nov 13  2019 probe.txt\n",
      "-rw------- 1 root root   52452386 Nov 13  2019 qualifying.txt\n",
      "-rw------- 1 root root  585209161 Oct 23 18:04 test2.pkl\n",
      "-rw------- 1 root root  522102823 Oct  2 01:57 test.csv\n",
      "-rw------- 1 root root  877759827 Oct 23 18:21 train2_train.pkl\n",
      "-rw------- 1 root root 2088437888 Oct  2 01:55 train.csv\n"
     ]
    }
   ],
   "source": [
    "from google.colab import drive\n",
    "drive.mount('/content/drive/')\n",
    "!ls \"/content/drive/MyDrive/Netflix_hw\" -l"
   ]
  },
  {
   "cell_type": "code",
   "execution_count": null,
   "metadata": {
    "id": "OYoKq9_bM0Tv"
   },
   "outputs": [],
   "source": []
  },
  {
   "cell_type": "markdown",
   "metadata": {
    "id": "hRoO6xybmdBm"
   },
   "source": [
    "## Data Representation"
   ]
  },
  {
   "cell_type": "code",
   "execution_count": 4,
   "metadata": {
    "id": "ak6AGXuGM0Q-"
   },
   "outputs": [],
   "source": [
    "import pandas as pd\n",
    "import numpy as np\n",
    "import seaborn as sns\n",
    "sns.set_style(\"whitegrid\")\n",
    "import matplotlib.pyplot as plt"
   ]
  },
  {
   "cell_type": "code",
   "execution_count": null,
   "metadata": {
    "id": "G2R4dO9uM0Oi"
   },
   "outputs": [],
   "source": [
    "## reading data\n",
    "df = pd.read_csv('/content/drive/MyDrive/Netflix_hw/data.csv',\n",
    "                 sep=',',\n",
    "                 names=['moive','user','rating','date'])"
   ]
  },
  {
   "cell_type": "code",
   "execution_count": null,
   "metadata": {
    "colab": {
     "base_uri": "https://localhost:8080/",
     "height": 206
    },
    "id": "pkR_9DMzM0L4",
    "outputId": "80d1889a-9fda-413c-cc97-4474d47c93fb"
   },
   "outputs": [
    {
     "data": {
      "text/html": [
       "\n",
       "  <div id=\"df-cbe2bb94-0e2c-4111-8216-bad39f497506\" class=\"colab-df-container\">\n",
       "    <div>\n",
       "<style scoped>\n",
       "    .dataframe tbody tr th:only-of-type {\n",
       "        vertical-align: middle;\n",
       "    }\n",
       "\n",
       "    .dataframe tbody tr th {\n",
       "        vertical-align: top;\n",
       "    }\n",
       "\n",
       "    .dataframe thead th {\n",
       "        text-align: right;\n",
       "    }\n",
       "</style>\n",
       "<table border=\"1\" class=\"dataframe\">\n",
       "  <thead>\n",
       "    <tr style=\"text-align: right;\">\n",
       "      <th></th>\n",
       "      <th>moive</th>\n",
       "      <th>user</th>\n",
       "      <th>rating</th>\n",
       "      <th>date</th>\n",
       "    </tr>\n",
       "  </thead>\n",
       "  <tbody>\n",
       "    <tr>\n",
       "      <th>0</th>\n",
       "      <td>1</td>\n",
       "      <td>1488844</td>\n",
       "      <td>3</td>\n",
       "      <td>2005-09-06</td>\n",
       "    </tr>\n",
       "    <tr>\n",
       "      <th>1</th>\n",
       "      <td>1</td>\n",
       "      <td>822109</td>\n",
       "      <td>5</td>\n",
       "      <td>2005-05-13</td>\n",
       "    </tr>\n",
       "    <tr>\n",
       "      <th>2</th>\n",
       "      <td>1</td>\n",
       "      <td>885013</td>\n",
       "      <td>4</td>\n",
       "      <td>2005-10-19</td>\n",
       "    </tr>\n",
       "    <tr>\n",
       "      <th>3</th>\n",
       "      <td>1</td>\n",
       "      <td>30878</td>\n",
       "      <td>4</td>\n",
       "      <td>2005-12-26</td>\n",
       "    </tr>\n",
       "    <tr>\n",
       "      <th>4</th>\n",
       "      <td>1</td>\n",
       "      <td>823519</td>\n",
       "      <td>3</td>\n",
       "      <td>2004-05-03</td>\n",
       "    </tr>\n",
       "  </tbody>\n",
       "</table>\n",
       "</div>\n",
       "    <div class=\"colab-df-buttons\">\n",
       "\n",
       "  <div class=\"colab-df-container\">\n",
       "    <button class=\"colab-df-convert\" onclick=\"convertToInteractive('df-cbe2bb94-0e2c-4111-8216-bad39f497506')\"\n",
       "            title=\"Convert this dataframe to an interactive table.\"\n",
       "            style=\"display:none;\">\n",
       "\n",
       "  <svg xmlns=\"http://www.w3.org/2000/svg\" height=\"24px\" viewBox=\"0 -960 960 960\">\n",
       "    <path d=\"M120-120v-720h720v720H120Zm60-500h600v-160H180v160Zm220 220h160v-160H400v160Zm0 220h160v-160H400v160ZM180-400h160v-160H180v160Zm440 0h160v-160H620v160ZM180-180h160v-160H180v160Zm440 0h160v-160H620v160Z\"/>\n",
       "  </svg>\n",
       "    </button>\n",
       "\n",
       "  <style>\n",
       "    .colab-df-container {\n",
       "      display:flex;\n",
       "      gap: 12px;\n",
       "    }\n",
       "\n",
       "    .colab-df-convert {\n",
       "      background-color: #E8F0FE;\n",
       "      border: none;\n",
       "      border-radius: 50%;\n",
       "      cursor: pointer;\n",
       "      display: none;\n",
       "      fill: #1967D2;\n",
       "      height: 32px;\n",
       "      padding: 0 0 0 0;\n",
       "      width: 32px;\n",
       "    }\n",
       "\n",
       "    .colab-df-convert:hover {\n",
       "      background-color: #E2EBFA;\n",
       "      box-shadow: 0px 1px 2px rgba(60, 64, 67, 0.3), 0px 1px 3px 1px rgba(60, 64, 67, 0.15);\n",
       "      fill: #174EA6;\n",
       "    }\n",
       "\n",
       "    .colab-df-buttons div {\n",
       "      margin-bottom: 4px;\n",
       "    }\n",
       "\n",
       "    [theme=dark] .colab-df-convert {\n",
       "      background-color: #3B4455;\n",
       "      fill: #D2E3FC;\n",
       "    }\n",
       "\n",
       "    [theme=dark] .colab-df-convert:hover {\n",
       "      background-color: #434B5C;\n",
       "      box-shadow: 0px 1px 3px 1px rgba(0, 0, 0, 0.15);\n",
       "      filter: drop-shadow(0px 1px 2px rgba(0, 0, 0, 0.3));\n",
       "      fill: #FFFFFF;\n",
       "    }\n",
       "  </style>\n",
       "\n",
       "    <script>\n",
       "      const buttonEl =\n",
       "        document.querySelector('#df-cbe2bb94-0e2c-4111-8216-bad39f497506 button.colab-df-convert');\n",
       "      buttonEl.style.display =\n",
       "        google.colab.kernel.accessAllowed ? 'block' : 'none';\n",
       "\n",
       "      async function convertToInteractive(key) {\n",
       "        const element = document.querySelector('#df-cbe2bb94-0e2c-4111-8216-bad39f497506');\n",
       "        const dataTable =\n",
       "          await google.colab.kernel.invokeFunction('convertToInteractive',\n",
       "                                                    [key], {});\n",
       "        if (!dataTable) return;\n",
       "\n",
       "        const docLinkHtml = 'Like what you see? Visit the ' +\n",
       "          '<a target=\"_blank\" href=https://colab.research.google.com/notebooks/data_table.ipynb>data table notebook</a>'\n",
       "          + ' to learn more about interactive tables.';\n",
       "        element.innerHTML = '';\n",
       "        dataTable['output_type'] = 'display_data';\n",
       "        await google.colab.output.renderOutput(dataTable, element);\n",
       "        const docLink = document.createElement('div');\n",
       "        docLink.innerHTML = docLinkHtml;\n",
       "        element.appendChild(docLink);\n",
       "      }\n",
       "    </script>\n",
       "  </div>\n",
       "\n",
       "\n",
       "<div id=\"df-047757f4-09de-4ed3-a5df-e2d6ffd1d856\">\n",
       "  <button class=\"colab-df-quickchart\" onclick=\"quickchart('df-047757f4-09de-4ed3-a5df-e2d6ffd1d856')\"\n",
       "            title=\"Suggest charts.\"\n",
       "            style=\"display:none;\">\n",
       "\n",
       "<svg xmlns=\"http://www.w3.org/2000/svg\" height=\"24px\"viewBox=\"0 0 24 24\"\n",
       "     width=\"24px\">\n",
       "    <g>\n",
       "        <path d=\"M19 3H5c-1.1 0-2 .9-2 2v14c0 1.1.9 2 2 2h14c1.1 0 2-.9 2-2V5c0-1.1-.9-2-2-2zM9 17H7v-7h2v7zm4 0h-2V7h2v10zm4 0h-2v-4h2v4z\"/>\n",
       "    </g>\n",
       "</svg>\n",
       "  </button>\n",
       "\n",
       "<style>\n",
       "  .colab-df-quickchart {\n",
       "      --bg-color: #E8F0FE;\n",
       "      --fill-color: #1967D2;\n",
       "      --hover-bg-color: #E2EBFA;\n",
       "      --hover-fill-color: #174EA6;\n",
       "      --disabled-fill-color: #AAA;\n",
       "      --disabled-bg-color: #DDD;\n",
       "  }\n",
       "\n",
       "  [theme=dark] .colab-df-quickchart {\n",
       "      --bg-color: #3B4455;\n",
       "      --fill-color: #D2E3FC;\n",
       "      --hover-bg-color: #434B5C;\n",
       "      --hover-fill-color: #FFFFFF;\n",
       "      --disabled-bg-color: #3B4455;\n",
       "      --disabled-fill-color: #666;\n",
       "  }\n",
       "\n",
       "  .colab-df-quickchart {\n",
       "    background-color: var(--bg-color);\n",
       "    border: none;\n",
       "    border-radius: 50%;\n",
       "    cursor: pointer;\n",
       "    display: none;\n",
       "    fill: var(--fill-color);\n",
       "    height: 32px;\n",
       "    padding: 0;\n",
       "    width: 32px;\n",
       "  }\n",
       "\n",
       "  .colab-df-quickchart:hover {\n",
       "    background-color: var(--hover-bg-color);\n",
       "    box-shadow: 0 1px 2px rgba(60, 64, 67, 0.3), 0 1px 3px 1px rgba(60, 64, 67, 0.15);\n",
       "    fill: var(--button-hover-fill-color);\n",
       "  }\n",
       "\n",
       "  .colab-df-quickchart-complete:disabled,\n",
       "  .colab-df-quickchart-complete:disabled:hover {\n",
       "    background-color: var(--disabled-bg-color);\n",
       "    fill: var(--disabled-fill-color);\n",
       "    box-shadow: none;\n",
       "  }\n",
       "\n",
       "  .colab-df-spinner {\n",
       "    border: 2px solid var(--fill-color);\n",
       "    border-color: transparent;\n",
       "    border-bottom-color: var(--fill-color);\n",
       "    animation:\n",
       "      spin 1s steps(1) infinite;\n",
       "  }\n",
       "\n",
       "  @keyframes spin {\n",
       "    0% {\n",
       "      border-color: transparent;\n",
       "      border-bottom-color: var(--fill-color);\n",
       "      border-left-color: var(--fill-color);\n",
       "    }\n",
       "    20% {\n",
       "      border-color: transparent;\n",
       "      border-left-color: var(--fill-color);\n",
       "      border-top-color: var(--fill-color);\n",
       "    }\n",
       "    30% {\n",
       "      border-color: transparent;\n",
       "      border-left-color: var(--fill-color);\n",
       "      border-top-color: var(--fill-color);\n",
       "      border-right-color: var(--fill-color);\n",
       "    }\n",
       "    40% {\n",
       "      border-color: transparent;\n",
       "      border-right-color: var(--fill-color);\n",
       "      border-top-color: var(--fill-color);\n",
       "    }\n",
       "    60% {\n",
       "      border-color: transparent;\n",
       "      border-right-color: var(--fill-color);\n",
       "    }\n",
       "    80% {\n",
       "      border-color: transparent;\n",
       "      border-right-color: var(--fill-color);\n",
       "      border-bottom-color: var(--fill-color);\n",
       "    }\n",
       "    90% {\n",
       "      border-color: transparent;\n",
       "      border-bottom-color: var(--fill-color);\n",
       "    }\n",
       "  }\n",
       "</style>\n",
       "\n",
       "  <script>\n",
       "    async function quickchart(key) {\n",
       "      const quickchartButtonEl =\n",
       "        document.querySelector('#' + key + ' button');\n",
       "      quickchartButtonEl.disabled = true;  // To prevent multiple clicks.\n",
       "      quickchartButtonEl.classList.add('colab-df-spinner');\n",
       "      try {\n",
       "        const charts = await google.colab.kernel.invokeFunction(\n",
       "            'suggestCharts', [key], {});\n",
       "      } catch (error) {\n",
       "        console.error('Error during call to suggestCharts:', error);\n",
       "      }\n",
       "      quickchartButtonEl.classList.remove('colab-df-spinner');\n",
       "      quickchartButtonEl.classList.add('colab-df-quickchart-complete');\n",
       "    }\n",
       "    (() => {\n",
       "      let quickchartButtonEl =\n",
       "        document.querySelector('#df-047757f4-09de-4ed3-a5df-e2d6ffd1d856 button');\n",
       "      quickchartButtonEl.style.display =\n",
       "        google.colab.kernel.accessAllowed ? 'block' : 'none';\n",
       "    })();\n",
       "  </script>\n",
       "</div>\n",
       "    </div>\n",
       "  </div>\n"
      ],
      "text/plain": [
       "   moive     user  rating        date\n",
       "0      1  1488844       3  2005-09-06\n",
       "1      1   822109       5  2005-05-13\n",
       "2      1   885013       4  2005-10-19\n",
       "3      1    30878       4  2005-12-26\n",
       "4      1   823519       3  2004-05-03"
      ]
     },
     "execution_count": 4,
     "metadata": {},
     "output_type": "execute_result"
    }
   ],
   "source": [
    "df.head()"
   ]
  },
  {
   "cell_type": "code",
   "execution_count": null,
   "metadata": {
    "colab": {
     "base_uri": "https://localhost:8080/"
    },
    "id": "ncJz3rERM0JQ",
    "outputId": "5fc008b3-a35e-4795-e641-78cef90f5d01"
   },
   "outputs": [
    {
     "data": {
      "text/plain": [
       "count    1.004805e+08\n",
       "mean     3.604290e+00\n",
       "std      1.085219e+00\n",
       "min      1.000000e+00\n",
       "25%      3.000000e+00\n",
       "50%      4.000000e+00\n",
       "75%      4.000000e+00\n",
       "max      5.000000e+00\n",
       "Name: rating, dtype: float64"
      ]
     },
     "execution_count": 5,
     "metadata": {},
     "output_type": "execute_result"
    }
   ],
   "source": [
    "## check the rating\n",
    "df.describe()['rating']"
   ]
  },
  {
   "cell_type": "code",
   "execution_count": null,
   "metadata": {
    "id": "lJigxPN_M0Gu"
   },
   "outputs": [],
   "source": [
    "## From hw1, the pre-processing has been already finished.  I will start to split data\n",
    "\n",
    "import os\n",
    "\n",
    "if not os.path.isfile('/content/drive/MyDrive/Netflix_hw/train2.pkl'):\n",
    "  df.iloc[:int(df.shape[0]*0.8)].to_pickle('/content/drive/MyDrive/Netflix_hw/train2.pkl')\n",
    "  train_df = pd.read_pickle('/content/drive/MyDrive/Netflix_hw/train2.pkl')\n",
    "  train_df.reset_index(drop=True, inplace=True)\n",
    "\n",
    "else:\n",
    "  train_df = pd.read_pickle('/content/drive/MyDrive/Netflix_hw/train2.pkl')\n",
    "  train_df.reset_index(drop=True, inplace=True)\n",
    "\n",
    "\n",
    "if not os.path.isfile('/content/drive/MyDrive/Netflix_hw/test2.pkl'):\n",
    "  df.iloc[int(df.shape[0]*0.8):].to_pickle('/content/drive/MyDrive/Netflix_hw/test2.pkl')\n",
    "  test_df = pd.read_pickle('/content/drive/MyDrive/Netflix_hw/test2.pkl')\n",
    "  test_df.reset_index(drop=True, inplace=True)\n",
    "\n",
    "else:\n",
    "  test_df = pd.read_pickle('/content/drive/MyDrive/Netflix_hw/test2.pkl')\n",
    "  test_df.reset_index(drop=True, inplace=True)\n"
   ]
  },
  {
   "cell_type": "code",
   "execution_count": null,
   "metadata": {
    "colab": {
     "base_uri": "https://localhost:8080/",
     "height": 206
    },
    "id": "jEJ1V8uwM0Ee",
    "outputId": "9f5aa24b-a134-4541-ff12-947c4a9fd546"
   },
   "outputs": [
    {
     "data": {
      "text/html": [
       "\n",
       "  <div id=\"df-43f87947-2406-4663-a245-13dbeaf661cd\" class=\"colab-df-container\">\n",
       "    <div>\n",
       "<style scoped>\n",
       "    .dataframe tbody tr th:only-of-type {\n",
       "        vertical-align: middle;\n",
       "    }\n",
       "\n",
       "    .dataframe tbody tr th {\n",
       "        vertical-align: top;\n",
       "    }\n",
       "\n",
       "    .dataframe thead th {\n",
       "        text-align: right;\n",
       "    }\n",
       "</style>\n",
       "<table border=\"1\" class=\"dataframe\">\n",
       "  <thead>\n",
       "    <tr style=\"text-align: right;\">\n",
       "      <th></th>\n",
       "      <th>moive</th>\n",
       "      <th>user</th>\n",
       "      <th>rating</th>\n",
       "      <th>date</th>\n",
       "    </tr>\n",
       "  </thead>\n",
       "  <tbody>\n",
       "    <tr>\n",
       "      <th>0</th>\n",
       "      <td>1</td>\n",
       "      <td>1488844</td>\n",
       "      <td>3</td>\n",
       "      <td>2005-09-06</td>\n",
       "    </tr>\n",
       "    <tr>\n",
       "      <th>1</th>\n",
       "      <td>1</td>\n",
       "      <td>822109</td>\n",
       "      <td>5</td>\n",
       "      <td>2005-05-13</td>\n",
       "    </tr>\n",
       "    <tr>\n",
       "      <th>2</th>\n",
       "      <td>1</td>\n",
       "      <td>885013</td>\n",
       "      <td>4</td>\n",
       "      <td>2005-10-19</td>\n",
       "    </tr>\n",
       "    <tr>\n",
       "      <th>3</th>\n",
       "      <td>1</td>\n",
       "      <td>30878</td>\n",
       "      <td>4</td>\n",
       "      <td>2005-12-26</td>\n",
       "    </tr>\n",
       "    <tr>\n",
       "      <th>4</th>\n",
       "      <td>1</td>\n",
       "      <td>823519</td>\n",
       "      <td>3</td>\n",
       "      <td>2004-05-03</td>\n",
       "    </tr>\n",
       "  </tbody>\n",
       "</table>\n",
       "</div>\n",
       "    <div class=\"colab-df-buttons\">\n",
       "\n",
       "  <div class=\"colab-df-container\">\n",
       "    <button class=\"colab-df-convert\" onclick=\"convertToInteractive('df-43f87947-2406-4663-a245-13dbeaf661cd')\"\n",
       "            title=\"Convert this dataframe to an interactive table.\"\n",
       "            style=\"display:none;\">\n",
       "\n",
       "  <svg xmlns=\"http://www.w3.org/2000/svg\" height=\"24px\" viewBox=\"0 -960 960 960\">\n",
       "    <path d=\"M120-120v-720h720v720H120Zm60-500h600v-160H180v160Zm220 220h160v-160H400v160Zm0 220h160v-160H400v160ZM180-400h160v-160H180v160Zm440 0h160v-160H620v160ZM180-180h160v-160H180v160Zm440 0h160v-160H620v160Z\"/>\n",
       "  </svg>\n",
       "    </button>\n",
       "\n",
       "  <style>\n",
       "    .colab-df-container {\n",
       "      display:flex;\n",
       "      gap: 12px;\n",
       "    }\n",
       "\n",
       "    .colab-df-convert {\n",
       "      background-color: #E8F0FE;\n",
       "      border: none;\n",
       "      border-radius: 50%;\n",
       "      cursor: pointer;\n",
       "      display: none;\n",
       "      fill: #1967D2;\n",
       "      height: 32px;\n",
       "      padding: 0 0 0 0;\n",
       "      width: 32px;\n",
       "    }\n",
       "\n",
       "    .colab-df-convert:hover {\n",
       "      background-color: #E2EBFA;\n",
       "      box-shadow: 0px 1px 2px rgba(60, 64, 67, 0.3), 0px 1px 3px 1px rgba(60, 64, 67, 0.15);\n",
       "      fill: #174EA6;\n",
       "    }\n",
       "\n",
       "    .colab-df-buttons div {\n",
       "      margin-bottom: 4px;\n",
       "    }\n",
       "\n",
       "    [theme=dark] .colab-df-convert {\n",
       "      background-color: #3B4455;\n",
       "      fill: #D2E3FC;\n",
       "    }\n",
       "\n",
       "    [theme=dark] .colab-df-convert:hover {\n",
       "      background-color: #434B5C;\n",
       "      box-shadow: 0px 1px 3px 1px rgba(0, 0, 0, 0.15);\n",
       "      filter: drop-shadow(0px 1px 2px rgba(0, 0, 0, 0.3));\n",
       "      fill: #FFFFFF;\n",
       "    }\n",
       "  </style>\n",
       "\n",
       "    <script>\n",
       "      const buttonEl =\n",
       "        document.querySelector('#df-43f87947-2406-4663-a245-13dbeaf661cd button.colab-df-convert');\n",
       "      buttonEl.style.display =\n",
       "        google.colab.kernel.accessAllowed ? 'block' : 'none';\n",
       "\n",
       "      async function convertToInteractive(key) {\n",
       "        const element = document.querySelector('#df-43f87947-2406-4663-a245-13dbeaf661cd');\n",
       "        const dataTable =\n",
       "          await google.colab.kernel.invokeFunction('convertToInteractive',\n",
       "                                                    [key], {});\n",
       "        if (!dataTable) return;\n",
       "\n",
       "        const docLinkHtml = 'Like what you see? Visit the ' +\n",
       "          '<a target=\"_blank\" href=https://colab.research.google.com/notebooks/data_table.ipynb>data table notebook</a>'\n",
       "          + ' to learn more about interactive tables.';\n",
       "        element.innerHTML = '';\n",
       "        dataTable['output_type'] = 'display_data';\n",
       "        await google.colab.output.renderOutput(dataTable, element);\n",
       "        const docLink = document.createElement('div');\n",
       "        docLink.innerHTML = docLinkHtml;\n",
       "        element.appendChild(docLink);\n",
       "      }\n",
       "    </script>\n",
       "  </div>\n",
       "\n",
       "\n",
       "<div id=\"df-66d6cc02-1345-4129-8833-83b4f4e9c956\">\n",
       "  <button class=\"colab-df-quickchart\" onclick=\"quickchart('df-66d6cc02-1345-4129-8833-83b4f4e9c956')\"\n",
       "            title=\"Suggest charts.\"\n",
       "            style=\"display:none;\">\n",
       "\n",
       "<svg xmlns=\"http://www.w3.org/2000/svg\" height=\"24px\"viewBox=\"0 0 24 24\"\n",
       "     width=\"24px\">\n",
       "    <g>\n",
       "        <path d=\"M19 3H5c-1.1 0-2 .9-2 2v14c0 1.1.9 2 2 2h14c1.1 0 2-.9 2-2V5c0-1.1-.9-2-2-2zM9 17H7v-7h2v7zm4 0h-2V7h2v10zm4 0h-2v-4h2v4z\"/>\n",
       "    </g>\n",
       "</svg>\n",
       "  </button>\n",
       "\n",
       "<style>\n",
       "  .colab-df-quickchart {\n",
       "      --bg-color: #E8F0FE;\n",
       "      --fill-color: #1967D2;\n",
       "      --hover-bg-color: #E2EBFA;\n",
       "      --hover-fill-color: #174EA6;\n",
       "      --disabled-fill-color: #AAA;\n",
       "      --disabled-bg-color: #DDD;\n",
       "  }\n",
       "\n",
       "  [theme=dark] .colab-df-quickchart {\n",
       "      --bg-color: #3B4455;\n",
       "      --fill-color: #D2E3FC;\n",
       "      --hover-bg-color: #434B5C;\n",
       "      --hover-fill-color: #FFFFFF;\n",
       "      --disabled-bg-color: #3B4455;\n",
       "      --disabled-fill-color: #666;\n",
       "  }\n",
       "\n",
       "  .colab-df-quickchart {\n",
       "    background-color: var(--bg-color);\n",
       "    border: none;\n",
       "    border-radius: 50%;\n",
       "    cursor: pointer;\n",
       "    display: none;\n",
       "    fill: var(--fill-color);\n",
       "    height: 32px;\n",
       "    padding: 0;\n",
       "    width: 32px;\n",
       "  }\n",
       "\n",
       "  .colab-df-quickchart:hover {\n",
       "    background-color: var(--hover-bg-color);\n",
       "    box-shadow: 0 1px 2px rgba(60, 64, 67, 0.3), 0 1px 3px 1px rgba(60, 64, 67, 0.15);\n",
       "    fill: var(--button-hover-fill-color);\n",
       "  }\n",
       "\n",
       "  .colab-df-quickchart-complete:disabled,\n",
       "  .colab-df-quickchart-complete:disabled:hover {\n",
       "    background-color: var(--disabled-bg-color);\n",
       "    fill: var(--disabled-fill-color);\n",
       "    box-shadow: none;\n",
       "  }\n",
       "\n",
       "  .colab-df-spinner {\n",
       "    border: 2px solid var(--fill-color);\n",
       "    border-color: transparent;\n",
       "    border-bottom-color: var(--fill-color);\n",
       "    animation:\n",
       "      spin 1s steps(1) infinite;\n",
       "  }\n",
       "\n",
       "  @keyframes spin {\n",
       "    0% {\n",
       "      border-color: transparent;\n",
       "      border-bottom-color: var(--fill-color);\n",
       "      border-left-color: var(--fill-color);\n",
       "    }\n",
       "    20% {\n",
       "      border-color: transparent;\n",
       "      border-left-color: var(--fill-color);\n",
       "      border-top-color: var(--fill-color);\n",
       "    }\n",
       "    30% {\n",
       "      border-color: transparent;\n",
       "      border-left-color: var(--fill-color);\n",
       "      border-top-color: var(--fill-color);\n",
       "      border-right-color: var(--fill-color);\n",
       "    }\n",
       "    40% {\n",
       "      border-color: transparent;\n",
       "      border-right-color: var(--fill-color);\n",
       "      border-top-color: var(--fill-color);\n",
       "    }\n",
       "    60% {\n",
       "      border-color: transparent;\n",
       "      border-right-color: var(--fill-color);\n",
       "    }\n",
       "    80% {\n",
       "      border-color: transparent;\n",
       "      border-right-color: var(--fill-color);\n",
       "      border-bottom-color: var(--fill-color);\n",
       "    }\n",
       "    90% {\n",
       "      border-color: transparent;\n",
       "      border-bottom-color: var(--fill-color);\n",
       "    }\n",
       "  }\n",
       "</style>\n",
       "\n",
       "  <script>\n",
       "    async function quickchart(key) {\n",
       "      const quickchartButtonEl =\n",
       "        document.querySelector('#' + key + ' button');\n",
       "      quickchartButtonEl.disabled = true;  // To prevent multiple clicks.\n",
       "      quickchartButtonEl.classList.add('colab-df-spinner');\n",
       "      try {\n",
       "        const charts = await google.colab.kernel.invokeFunction(\n",
       "            'suggestCharts', [key], {});\n",
       "      } catch (error) {\n",
       "        console.error('Error during call to suggestCharts:', error);\n",
       "      }\n",
       "      quickchartButtonEl.classList.remove('colab-df-spinner');\n",
       "      quickchartButtonEl.classList.add('colab-df-quickchart-complete');\n",
       "    }\n",
       "    (() => {\n",
       "      let quickchartButtonEl =\n",
       "        document.querySelector('#df-66d6cc02-1345-4129-8833-83b4f4e9c956 button');\n",
       "      quickchartButtonEl.style.display =\n",
       "        google.colab.kernel.accessAllowed ? 'block' : 'none';\n",
       "    })();\n",
       "  </script>\n",
       "</div>\n",
       "    </div>\n",
       "  </div>\n"
      ],
      "text/plain": [
       "   moive     user  rating        date\n",
       "0      1  1488844       3  2005-09-06\n",
       "1      1   822109       5  2005-05-13\n",
       "2      1   885013       4  2005-10-19\n",
       "3      1    30878       4  2005-12-26\n",
       "4      1   823519       3  2004-05-03"
      ]
     },
     "execution_count": 6,
     "metadata": {},
     "output_type": "execute_result"
    }
   ],
   "source": [
    "train_df.head()"
   ]
  },
  {
   "cell_type": "code",
   "execution_count": null,
   "metadata": {
    "colab": {
     "base_uri": "https://localhost:8080/"
    },
    "id": "GqeSzvgtM0Bm",
    "outputId": "277693fa-26d7-4c4b-beeb-cce99d494b15"
   },
   "outputs": [
    {
     "data": {
      "text/plain": [
       "count    8.038440e+07\n",
       "mean     3.602851e+00\n",
       "std      1.086498e+00\n",
       "min      1.000000e+00\n",
       "25%      3.000000e+00\n",
       "50%      4.000000e+00\n",
       "75%      4.000000e+00\n",
       "max      5.000000e+00\n",
       "Name: rating, dtype: float64"
      ]
     },
     "execution_count": 8,
     "metadata": {},
     "output_type": "execute_result"
    }
   ],
   "source": [
    "train_df.describe()['rating']"
   ]
  },
  {
   "cell_type": "markdown",
   "metadata": {
    "id": "pJ285lK3uHZa"
   },
   "source": [
    "### Training Data"
   ]
  },
  {
   "cell_type": "code",
   "execution_count": null,
   "metadata": {
    "id": "yiTfz3ocMz-u"
   },
   "outputs": [],
   "source": [
    "## since the testing data is for evulation, I will operate training data.\n",
    "## since training data is quite big for the computing resources, I will futher split later.\n",
    "\n",
    "def changingLabel(number):\n",
    "  return str(number/10**6) + 'M'"
   ]
  },
  {
   "cell_type": "code",
   "execution_count": null,
   "metadata": {
    "colab": {
     "base_uri": "https://localhost:8080/",
     "height": 606
    },
    "id": "aVDzxbZaMz8G",
    "outputId": "a1bb6499-e92c-4368-e8d1-b7f14170d0b9"
   },
   "outputs": [
    {
     "name": "stderr",
     "output_type": "stream",
     "text": [
      "<ipython-input-10-3a9377a29db0>:4: UserWarning: FixedFormatter should only be used together with FixedLocator\n",
      "  ax.set_yticklabels([changingLabel(num) for num in ax.get_yticks()])\n"
     ]
    },
    {
     "data": {
      "image/png": "[encoded data removed]",
      "text/plain": [
       "<Figure size 1000x600 with 1 Axes>"
      ]
     },
     "metadata": {},
     "output_type": "display_data"
    }
   ],
   "source": [
    "plt.figure(figsize = (10, 6))\n",
    "ax = sns.countplot(x='rating', data = train_df)\n",
    "\n",
    "ax.set_yticklabels([changingLabel(num) for num in ax.get_yticks()])\n",
    "\n",
    "plt.tick_params(labelsize = 15)\n",
    "plt.title('Distribution on training Data')\n",
    "plt.xlabel(\"Ratings\")\n",
    "plt.ylabel('Number(Millions)')\n",
    "plt.show()"
   ]
  },
  {
   "cell_type": "code",
   "execution_count": null,
   "metadata": {
    "id": "EdiW9dunMz5u"
   },
   "outputs": [],
   "source": [
    "\n",
    "\n"
   ]
  },
  {
   "cell_type": "code",
   "execution_count": null,
   "metadata": {
    "id": "_wbj0IdgMz3Y"
   },
   "outputs": [],
   "source": [
    "## since training data is quite big for the computing resources, I will futher split . just use 30%\n",
    "## tried 30% . it is still out of memory for 12gb ram\n",
    "# Thus, I will try 15%\n",
    "train_df.iloc[:int(df.shape[0]*0.15)].to_pickle('/content/drive/MyDrive/Netflix_hw/train2_train.pkl')\n"
   ]
  },
  {
   "cell_type": "code",
   "execution_count": null,
   "metadata": {
    "id": "1oLK-x_kzekx"
   },
   "outputs": [],
   "source": [
    "train_sample = pd.read_pickle('/content/drive/MyDrive/Netflix_hw/train2_train.pkl')"
   ]
  },
  {
   "cell_type": "markdown",
   "metadata": {
    "id": "vIug-9DBzg3o"
   },
   "source": []
  },
  {
   "cell_type": "code",
   "execution_count": null,
   "metadata": {
    "colab": {
     "base_uri": "https://localhost:8080/"
    },
    "id": "JpGPmV35Mz0w",
    "outputId": "6778cbeb-34b0-4831-ced3-a13b8c83db85"
   },
   "outputs": [
    {
     "data": {
      "text/plain": [
       "count    1.507208e+07\n",
       "mean     3.618196e+00\n",
       "std      1.079849e+00\n",
       "min      1.000000e+00\n",
       "25%      3.000000e+00\n",
       "50%      4.000000e+00\n",
       "75%      4.000000e+00\n",
       "max      5.000000e+00\n",
       "Name: rating, dtype: float64"
      ]
     },
     "execution_count": 9,
     "metadata": {},
     "output_type": "execute_result"
    }
   ],
   "source": [
    "train_sample.describe()['rating']"
   ]
  },
  {
   "cell_type": "code",
   "execution_count": null,
   "metadata": {
    "colab": {
     "base_uri": "https://localhost:8080/",
     "height": 206
    },
    "id": "isHPafby0Pys",
    "outputId": "788a012a-1e79-47f4-dba9-b2df81ef4994"
   },
   "outputs": [
    {
     "data": {
      "text/html": [
       "\n",
       "  <div id=\"df-5c1790c8-8d71-441e-834e-f4c256cce8af\" class=\"colab-df-container\">\n",
       "    <div>\n",
       "<style scoped>\n",
       "    .dataframe tbody tr th:only-of-type {\n",
       "        vertical-align: middle;\n",
       "    }\n",
       "\n",
       "    .dataframe tbody tr th {\n",
       "        vertical-align: top;\n",
       "    }\n",
       "\n",
       "    .dataframe thead th {\n",
       "        text-align: right;\n",
       "    }\n",
       "</style>\n",
       "<table border=\"1\" class=\"dataframe\">\n",
       "  <thead>\n",
       "    <tr style=\"text-align: right;\">\n",
       "      <th></th>\n",
       "      <th>moive</th>\n",
       "      <th>user</th>\n",
       "      <th>rating</th>\n",
       "      <th>date</th>\n",
       "    </tr>\n",
       "  </thead>\n",
       "  <tbody>\n",
       "    <tr>\n",
       "      <th>0</th>\n",
       "      <td>1</td>\n",
       "      <td>1488844</td>\n",
       "      <td>3</td>\n",
       "      <td>2005-09-06</td>\n",
       "    </tr>\n",
       "    <tr>\n",
       "      <th>1</th>\n",
       "      <td>1</td>\n",
       "      <td>822109</td>\n",
       "      <td>5</td>\n",
       "      <td>2005-05-13</td>\n",
       "    </tr>\n",
       "    <tr>\n",
       "      <th>2</th>\n",
       "      <td>1</td>\n",
       "      <td>885013</td>\n",
       "      <td>4</td>\n",
       "      <td>2005-10-19</td>\n",
       "    </tr>\n",
       "    <tr>\n",
       "      <th>3</th>\n",
       "      <td>1</td>\n",
       "      <td>30878</td>\n",
       "      <td>4</td>\n",
       "      <td>2005-12-26</td>\n",
       "    </tr>\n",
       "    <tr>\n",
       "      <th>4</th>\n",
       "      <td>1</td>\n",
       "      <td>823519</td>\n",
       "      <td>3</td>\n",
       "      <td>2004-05-03</td>\n",
       "    </tr>\n",
       "  </tbody>\n",
       "</table>\n",
       "</div>\n",
       "    <div class=\"colab-df-buttons\">\n",
       "\n",
       "  <div class=\"colab-df-container\">\n",
       "    <button class=\"colab-df-convert\" onclick=\"convertToInteractive('df-5c1790c8-8d71-441e-834e-f4c256cce8af')\"\n",
       "            title=\"Convert this dataframe to an interactive table.\"\n",
       "            style=\"display:none;\">\n",
       "\n",
       "  <svg xmlns=\"http://www.w3.org/2000/svg\" height=\"24px\" viewBox=\"0 -960 960 960\">\n",
       "    <path d=\"M120-120v-720h720v720H120Zm60-500h600v-160H180v160Zm220 220h160v-160H400v160Zm0 220h160v-160H400v160ZM180-400h160v-160H180v160Zm440 0h160v-160H620v160ZM180-180h160v-160H180v160Zm440 0h160v-160H620v160Z\"/>\n",
       "  </svg>\n",
       "    </button>\n",
       "\n",
       "  <style>\n",
       "    .colab-df-container {\n",
       "      display:flex;\n",
       "      gap: 12px;\n",
       "    }\n",
       "\n",
       "    .colab-df-convert {\n",
       "      background-color: #E8F0FE;\n",
       "      border: none;\n",
       "      border-radius: 50%;\n",
       "      cursor: pointer;\n",
       "      display: none;\n",
       "      fill: #1967D2;\n",
       "      height: 32px;\n",
       "      padding: 0 0 0 0;\n",
       "      width: 32px;\n",
       "    }\n",
       "\n",
       "    .colab-df-convert:hover {\n",
       "      background-color: #E2EBFA;\n",
       "      box-shadow: 0px 1px 2px rgba(60, 64, 67, 0.3), 0px 1px 3px 1px rgba(60, 64, 67, 0.15);\n",
       "      fill: #174EA6;\n",
       "    }\n",
       "\n",
       "    .colab-df-buttons div {\n",
       "      margin-bottom: 4px;\n",
       "    }\n",
       "\n",
       "    [theme=dark] .colab-df-convert {\n",
       "      background-color: #3B4455;\n",
       "      fill: #D2E3FC;\n",
       "    }\n",
       "\n",
       "    [theme=dark] .colab-df-convert:hover {\n",
       "      background-color: #434B5C;\n",
       "      box-shadow: 0px 1px 3px 1px rgba(0, 0, 0, 0.15);\n",
       "      filter: drop-shadow(0px 1px 2px rgba(0, 0, 0, 0.3));\n",
       "      fill: #FFFFFF;\n",
       "    }\n",
       "  </style>\n",
       "\n",
       "    <script>\n",
       "      const buttonEl =\n",
       "        document.querySelector('#df-5c1790c8-8d71-441e-834e-f4c256cce8af button.colab-df-convert');\n",
       "      buttonEl.style.display =\n",
       "        google.colab.kernel.accessAllowed ? 'block' : 'none';\n",
       "\n",
       "      async function convertToInteractive(key) {\n",
       "        const element = document.querySelector('#df-5c1790c8-8d71-441e-834e-f4c256cce8af');\n",
       "        const dataTable =\n",
       "          await google.colab.kernel.invokeFunction('convertToInteractive',\n",
       "                                                    [key], {});\n",
       "        if (!dataTable) return;\n",
       "\n",
       "        const docLinkHtml = 'Like what you see? Visit the ' +\n",
       "          '<a target=\"_blank\" href=https://colab.research.google.com/notebooks/data_table.ipynb>data table notebook</a>'\n",
       "          + ' to learn more about interactive tables.';\n",
       "        element.innerHTML = '';\n",
       "        dataTable['output_type'] = 'display_data';\n",
       "        await google.colab.output.renderOutput(dataTable, element);\n",
       "        const docLink = document.createElement('div');\n",
       "        docLink.innerHTML = docLinkHtml;\n",
       "        element.appendChild(docLink);\n",
       "      }\n",
       "    </script>\n",
       "  </div>\n",
       "\n",
       "\n",
       "<div id=\"df-5be655c6-550c-4376-afce-cc00410b32cf\">\n",
       "  <button class=\"colab-df-quickchart\" onclick=\"quickchart('df-5be655c6-550c-4376-afce-cc00410b32cf')\"\n",
       "            title=\"Suggest charts.\"\n",
       "            style=\"display:none;\">\n",
       "\n",
       "<svg xmlns=\"http://www.w3.org/2000/svg\" height=\"24px\"viewBox=\"0 0 24 24\"\n",
       "     width=\"24px\">\n",
       "    <g>\n",
       "        <path d=\"M19 3H5c-1.1 0-2 .9-2 2v14c0 1.1.9 2 2 2h14c1.1 0 2-.9 2-2V5c0-1.1-.9-2-2-2zM9 17H7v-7h2v7zm4 0h-2V7h2v10zm4 0h-2v-4h2v4z\"/>\n",
       "    </g>\n",
       "</svg>\n",
       "  </button>\n",
       "\n",
       "<style>\n",
       "  .colab-df-quickchart {\n",
       "      --bg-color: #E8F0FE;\n",
       "      --fill-color: #1967D2;\n",
       "      --hover-bg-color: #E2EBFA;\n",
       "      --hover-fill-color: #174EA6;\n",
       "      --disabled-fill-color: #AAA;\n",
       "      --disabled-bg-color: #DDD;\n",
       "  }\n",
       "\n",
       "  [theme=dark] .colab-df-quickchart {\n",
       "      --bg-color: #3B4455;\n",
       "      --fill-color: #D2E3FC;\n",
       "      --hover-bg-color: #434B5C;\n",
       "      --hover-fill-color: #FFFFFF;\n",
       "      --disabled-bg-color: #3B4455;\n",
       "      --disabled-fill-color: #666;\n",
       "  }\n",
       "\n",
       "  .colab-df-quickchart {\n",
       "    background-color: var(--bg-color);\n",
       "    border: none;\n",
       "    border-radius: 50%;\n",
       "    cursor: pointer;\n",
       "    display: none;\n",
       "    fill: var(--fill-color);\n",
       "    height: 32px;\n",
       "    padding: 0;\n",
       "    width: 32px;\n",
       "  }\n",
       "\n",
       "  .colab-df-quickchart:hover {\n",
       "    background-color: var(--hover-bg-color);\n",
       "    box-shadow: 0 1px 2px rgba(60, 64, 67, 0.3), 0 1px 3px 1px rgba(60, 64, 67, 0.15);\n",
       "    fill: var(--button-hover-fill-color);\n",
       "  }\n",
       "\n",
       "  .colab-df-quickchart-complete:disabled,\n",
       "  .colab-df-quickchart-complete:disabled:hover {\n",
       "    background-color: var(--disabled-bg-color);\n",
       "    fill: var(--disabled-fill-color);\n",
       "    box-shadow: none;\n",
       "  }\n",
       "\n",
       "  .colab-df-spinner {\n",
       "    border: 2px solid var(--fill-color);\n",
       "    border-color: transparent;\n",
       "    border-bottom-color: var(--fill-color);\n",
       "    animation:\n",
       "      spin 1s steps(1) infinite;\n",
       "  }\n",
       "\n",
       "  @keyframes spin {\n",
       "    0% {\n",
       "      border-color: transparent;\n",
       "      border-bottom-color: var(--fill-color);\n",
       "      border-left-color: var(--fill-color);\n",
       "    }\n",
       "    20% {\n",
       "      border-color: transparent;\n",
       "      border-left-color: var(--fill-color);\n",
       "      border-top-color: var(--fill-color);\n",
       "    }\n",
       "    30% {\n",
       "      border-color: transparent;\n",
       "      border-left-color: var(--fill-color);\n",
       "      border-top-color: var(--fill-color);\n",
       "      border-right-color: var(--fill-color);\n",
       "    }\n",
       "    40% {\n",
       "      border-color: transparent;\n",
       "      border-right-color: var(--fill-color);\n",
       "      border-top-color: var(--fill-color);\n",
       "    }\n",
       "    60% {\n",
       "      border-color: transparent;\n",
       "      border-right-color: var(--fill-color);\n",
       "    }\n",
       "    80% {\n",
       "      border-color: transparent;\n",
       "      border-right-color: var(--fill-color);\n",
       "      border-bottom-color: var(--fill-color);\n",
       "    }\n",
       "    90% {\n",
       "      border-color: transparent;\n",
       "      border-bottom-color: var(--fill-color);\n",
       "    }\n",
       "  }\n",
       "</style>\n",
       "\n",
       "  <script>\n",
       "    async function quickchart(key) {\n",
       "      const quickchartButtonEl =\n",
       "        document.querySelector('#' + key + ' button');\n",
       "      quickchartButtonEl.disabled = true;  // To prevent multiple clicks.\n",
       "      quickchartButtonEl.classList.add('colab-df-spinner');\n",
       "      try {\n",
       "        const charts = await google.colab.kernel.invokeFunction(\n",
       "            'suggestCharts', [key], {});\n",
       "      } catch (error) {\n",
       "        console.error('Error during call to suggestCharts:', error);\n",
       "      }\n",
       "      quickchartButtonEl.classList.remove('colab-df-spinner');\n",
       "      quickchartButtonEl.classList.add('colab-df-quickchart-complete');\n",
       "    }\n",
       "    (() => {\n",
       "      let quickchartButtonEl =\n",
       "        document.querySelector('#df-5be655c6-550c-4376-afce-cc00410b32cf button');\n",
       "      quickchartButtonEl.style.display =\n",
       "        google.colab.kernel.accessAllowed ? 'block' : 'none';\n",
       "    })();\n",
       "  </script>\n",
       "</div>\n",
       "    </div>\n",
       "  </div>\n"
      ],
      "text/plain": [
       "   moive     user  rating        date\n",
       "0      1  1488844       3  2005-09-06\n",
       "1      1   822109       5  2005-05-13\n",
       "2      1   885013       4  2005-10-19\n",
       "3      1    30878       4  2005-12-26\n",
       "4      1   823519       3  2004-05-03"
      ]
     },
     "execution_count": 6,
     "metadata": {},
     "output_type": "execute_result"
    }
   ],
   "source": [
    "train_sample.head()"
   ]
  },
  {
   "cell_type": "code",
   "execution_count": null,
   "metadata": {
    "colab": {
     "base_uri": "https://localhost:8080/",
     "height": 606
    },
    "id": "9jx01ylgMzyZ",
    "outputId": "9abe723d-ef7e-4ceb-a8ac-7738d9589078"
   },
   "outputs": [
    {
     "name": "stderr",
     "output_type": "stream",
     "text": [
      "<ipython-input-12-43c5ae43ee2c>:4: UserWarning: FixedFormatter should only be used together with FixedLocator\n",
      "  ax.set_yticklabels([changingLabel(num) for num in ax.get_yticks()])\n"
     ]
    },
    {
     "data": {
      "image/png": "[encoded data removed]",
      "text/plain": [
       "<Figure size 1000x600 with 1 Axes>"
      ]
     },
     "metadata": {},
     "output_type": "display_data"
    }
   ],
   "source": [
    "plt.figure(figsize = (10, 6))\n",
    "ax = sns.countplot(x='rating', data = train_sample)\n",
    "\n",
    "ax.set_yticklabels([changingLabel(num) for num in ax.get_yticks()])\n",
    "\n",
    "plt.tick_params(labelsize = 15)\n",
    "plt.title('Distribution on training Data')\n",
    "plt.xlabel(\"Ratings\")\n",
    "plt.ylabel('Number(Millions)')\n",
    "plt.show()"
   ]
  },
  {
   "cell_type": "code",
   "execution_count": null,
   "metadata": {
    "colab": {
     "base_uri": "https://localhost:8080/",
     "height": 600
    },
    "id": "OMBKC1p4Mzvm",
    "outputId": "e23fe69a-adba-4cd6-8500-c4e6eb6dd447"
   },
   "outputs": [
    {
     "name": "stderr",
     "output_type": "stream",
     "text": [
      "<ipython-input-13-aabea5867e97>:8: UserWarning: FixedFormatter should only be used together with FixedLocator\n",
      "  ax.set_yticklabels([changingLabel(num) for num in ax.get_yticks()])\n"
     ]
    },
    {
     "data": {
      "image/png": "[encoded data removed]",
      "text/plain": [
       "<Figure size 1000x600 with 1 Axes>"
      ]
     },
     "metadata": {},
     "output_type": "display_data"
    }
   ],
   "source": [
    "## number of rating per month\n",
    "train_sample['date'] = pd.to_datetime(train_sample['date'])\n",
    "\n",
    "plt.figure(figsize=(10,6))\n",
    "\n",
    "ax= train_sample.resample('M', on='date')['rating'].count().plot()\n",
    "\n",
    "ax.set_yticklabels([changingLabel(num) for num in ax.get_yticks()])\n",
    "ax.set_title(\"Number of Rating per month\")\n",
    "ax.set_xlabel(\"Date\")\n",
    "ax.set_ylabel(\"Number of Rating per Month(Millions)\")\n",
    "plt.tick_params\n",
    "plt.show()\n"
   ]
  },
  {
   "cell_type": "code",
   "execution_count": null,
   "metadata": {
    "colab": {
     "base_uri": "https://localhost:8080/"
    },
    "id": "jj8cr0r2MztW",
    "outputId": "d0a59275-cb06-48d5-a671-2bdc8db2f6c5"
   },
   "outputs": [
    {
     "data": {
      "text/plain": [
       "user\n",
       "305344     5475\n",
       "387418     5419\n",
       "2439493    5126\n",
       "1664010    4931\n",
       "2118461    4615\n",
       "Name: rating, dtype: int64"
      ]
     },
     "execution_count": 10,
     "metadata": {},
     "output_type": "execute_result"
    }
   ],
   "source": [
    "## user with rating\n",
    "\n",
    "non_related_m_u = train_sample.groupby(by='user')['rating'].count().sort_values(ascending=False)\n",
    "non_related_m_u.head()"
   ]
  },
  {
   "cell_type": "code",
   "execution_count": null,
   "metadata": {
    "colab": {
     "base_uri": "https://localhost:8080/",
     "height": 487
    },
    "id": "p6T-vpclMzrG",
    "outputId": "87f870eb-08f3-431b-8082-333d414c7c33"
   },
   "outputs": [
    {
     "data": {
      "image/png": "[encoded data removed]",
      "text/plain": [
       "<Figure size 640x480 with 2 Axes>"
      ]
     },
     "metadata": {},
     "output_type": "display_data"
    }
   ],
   "source": [
    "fig, axes = plt.subplots(nrows =1, ncols =2)\n",
    "\n",
    "sns.kdeplot(non_related_m_u.values, fill = True, ax=axes[0])\n",
    "axes[0].set_title(\"PDF\")\n",
    "axes[0].set_xlabel(\"Number of Ratings by user\")\n",
    "axes[0].tick_params(labelsize = 15)\n",
    "\n",
    "sns.kdeplot(non_related_m_u.values, fill = True, cumulative = True, ax = axes[1])\n",
    "axes[1].set_title(\"CDF\")\n",
    "axes[1].set_xlabel(\"Number of Ratings by user\")\n",
    "axes[1].tick_params(labelsize = 15)\n",
    "\n",
    "fig.subplots_adjust(wspace=2)\n",
    "plt.tight_layout()\n",
    "plt.show()"
   ]
  },
  {
   "cell_type": "markdown",
   "metadata": {
    "id": "3Ta5d84WF8IO"
   },
   "source": [
    "- all most all users give few ratings."
   ]
  },
  {
   "cell_type": "code",
   "execution_count": null,
   "metadata": {
    "id": "5FUZUvtaMzoW"
   },
   "outputs": [],
   "source": [
    "## split data for train_sample to build model\n",
    "\n",
    "train_sample.iloc[:int(train_sample.shape[0]*0.8)].to_pickle('/content/drive/MyDrive/Netflix_hw/train2_train_sample.pkl')\n",
    "train_sample.iloc[int(train_sample.shape[0]*0.8):].to_pickle('/content/drive/MyDrive/Netflix_hw/train2_test_sample.pkl')\n",
    "\n"
   ]
  },
  {
   "cell_type": "markdown",
   "metadata": {
    "id": "Y5G4NUupSPDd"
   },
   "source": [
    "### use small sample size of training for building and testing models due to the limitation of computer resources"
   ]
  },
  {
   "cell_type": "code",
   "execution_count": 5,
   "metadata": {
    "id": "3hPZGpsFQUQy"
   },
   "outputs": [],
   "source": [
    "trainD = pd.read_pickle('./train2_train_sample.pkl')\n",
    "testD = pd.read_pickle('./train2_test_sample.pkl')"
   ]
  },
  {
   "cell_type": "code",
   "execution_count": 6,
   "metadata": {},
   "outputs": [
    {
     "name": "stdout",
     "output_type": "stream",
     "text": [
      "Training data \n",
      "--------------------------------------------------\n",
      "\n",
      "Total no of ratings : 12057660\n",
      "Total No of Users   : 455987\n",
      "Total No of movies  : 2342\n"
     ]
    }
   ],
   "source": [
    "print(\"Training data \")\n",
    "print(\"-\"*50)\n",
    "print(\"\\nTotal no of ratings :\",trainD.shape[0])\n",
    "print(\"Total No of Users   :\", len(np.unique(trainD.user)))\n",
    "print(\"Total No of movies  :\", len(np.unique(trainD.moive)))"
   ]
  },
  {
   "cell_type": "code",
   "execution_count": 5,
   "metadata": {},
   "outputs": [
    {
     "name": "stdout",
     "output_type": "stream",
     "text": [
      "Testing data \n",
      "--------------------------------------------------\n",
      "\n",
      "Total no of ratings : 3014416\n",
      "Total No of Users   : 376009\n",
      "Total No of movies  : 559\n"
     ]
    }
   ],
   "source": [
    "print(\"Testing data \")\n",
    "print(\"-\"*50)\n",
    "print(\"\\nTotal no of ratings :\",testD.shape[0])\n",
    "print(\"Total No of Users   :\", len(np.unique(testD.user)))\n",
    "print(\"Total No of movies  :\", len(np.unique(testD.moive)))"
   ]
  },
  {
   "cell_type": "code",
   "execution_count": 6,
   "metadata": {},
   "outputs": [
    {
     "data": {
      "text/html": [
       "<div>\n",
       "<style scoped>\n",
       "    .dataframe tbody tr th:only-of-type {\n",
       "        vertical-align: middle;\n",
       "    }\n",
       "\n",
       "    .dataframe tbody tr th {\n",
       "        vertical-align: top;\n",
       "    }\n",
       "\n",
       "    .dataframe thead th {\n",
       "        text-align: right;\n",
       "    }\n",
       "</style>\n",
       "<table border=\"1\" class=\"dataframe\">\n",
       "  <thead>\n",
       "    <tr style=\"text-align: right;\">\n",
       "      <th></th>\n",
       "      <th>moive</th>\n",
       "      <th>user</th>\n",
       "      <th>rating</th>\n",
       "      <th>date</th>\n",
       "    </tr>\n",
       "  </thead>\n",
       "  <tbody>\n",
       "    <tr>\n",
       "      <th>0</th>\n",
       "      <td>1</td>\n",
       "      <td>1488844</td>\n",
       "      <td>3</td>\n",
       "      <td>2005-09-06</td>\n",
       "    </tr>\n",
       "    <tr>\n",
       "      <th>1</th>\n",
       "      <td>1</td>\n",
       "      <td>822109</td>\n",
       "      <td>5</td>\n",
       "      <td>2005-05-13</td>\n",
       "    </tr>\n",
       "    <tr>\n",
       "      <th>2</th>\n",
       "      <td>1</td>\n",
       "      <td>885013</td>\n",
       "      <td>4</td>\n",
       "      <td>2005-10-19</td>\n",
       "    </tr>\n",
       "    <tr>\n",
       "      <th>3</th>\n",
       "      <td>1</td>\n",
       "      <td>30878</td>\n",
       "      <td>4</td>\n",
       "      <td>2005-12-26</td>\n",
       "    </tr>\n",
       "    <tr>\n",
       "      <th>4</th>\n",
       "      <td>1</td>\n",
       "      <td>823519</td>\n",
       "      <td>3</td>\n",
       "      <td>2004-05-03</td>\n",
       "    </tr>\n",
       "  </tbody>\n",
       "</table>\n",
       "</div>"
      ],
      "text/plain": [
       "   moive     user  rating       date\n",
       "0      1  1488844       3 2005-09-06\n",
       "1      1   822109       5 2005-05-13\n",
       "2      1   885013       4 2005-10-19\n",
       "3      1    30878       4 2005-12-26\n",
       "4      1   823519       3 2004-05-03"
      ]
     },
     "execution_count": 6,
     "metadata": {},
     "output_type": "execute_result"
    }
   ],
   "source": [
    "trainD.head()"
   ]
  },
  {
   "cell_type": "code",
   "execution_count": null,
   "metadata": {},
   "outputs": [],
   "source": []
  },
  {
   "cell_type": "markdown",
   "metadata": {
    "id": "Hm5d8YXTKvBB"
   },
   "source": [
    "## Modeling\n",
    "since CF baseline model is showed at hw1, I will perform other *models*"
   ]
  },
  {
   "cell_type": "code",
   "execution_count": null,
   "metadata": {},
   "outputs": [],
   "source": []
  },
  {
   "cell_type": "code",
   "execution_count": null,
   "metadata": {
    "colab": {
     "base_uri": "https://localhost:8080/"
    },
    "id": "-_Nz0UgfT86f",
    "outputId": "055f50aa-4d24-43af-b32e-8b83a9f54d53"
   },
   "outputs": [
    {
     "name": "stdout",
     "output_type": "stream",
     "text": [
      "Collecting scikit-surprise\n",
      "  Downloading scikit-surprise-1.1.3.tar.gz (771 kB)\n",
      "\u001b[?25l     \u001b[90m━━━━━━━━━━━━━━━━━━━━━━━━━━━━━━━━━━━━━━━━\u001b[0m \u001b[32m0.0/772.0 kB\u001b[0m \u001b[31m?\u001b[0m eta \u001b[36m-:--:--\u001b[0m\r",
      "\u001b[2K     \u001b[91m━━━━━\u001b[0m\u001b[91m╸\u001b[0m\u001b[90m━━━━━━━━━━━━━━━━━━━━━━━━━━━━━━━━━━\u001b[0m \u001b[32m112.6/772.0 kB\u001b[0m \u001b[31m3.2 MB/s\u001b[0m eta \u001b[36m0:00:01\u001b[0m\r",
      "\u001b[2K     \u001b[91m━━━━━━━━━━━━━━━━━━━━━━━━━━━━━━━━━━━━━━━\u001b[0m\u001b[91m╸\u001b[0m \u001b[32m768.0/772.0 kB\u001b[0m \u001b[31m11.7 MB/s\u001b[0m eta \u001b[36m0:00:01\u001b[0m\r",
      "\u001b[2K     \u001b[90m━━━━━━━━━━━━━━━━━━━━━━━━━━━━━━━━━━━━━━━━\u001b[0m \u001b[32m772.0/772.0 kB\u001b[0m \u001b[31m7.9 MB/s\u001b[0m eta \u001b[36m0:00:00\u001b[0m\n",
      "\u001b[?25h  Preparing metadata (setup.py) ... \u001b[?25l\u001b[?25hdone\n",
      "Requirement already satisfied: joblib>=1.0.0 in /usr/local/lib/python3.10/dist-packages (from scikit-surprise) (1.3.2)\n",
      "Requirement already satisfied: numpy>=1.17.3 in /usr/local/lib/python3.10/dist-packages (from scikit-surprise) (1.23.5)\n",
      "Requirement already satisfied: scipy>=1.3.2 in /usr/local/lib/python3.10/dist-packages (from scikit-surprise) (1.11.3)\n",
      "Building wheels for collected packages: scikit-surprise\n",
      "  Building wheel for scikit-surprise (setup.py) ... \u001b[?25l\u001b[?25hdone\n",
      "  Created wheel for scikit-surprise: filename=scikit_surprise-1.1.3-cp310-cp310-linux_x86_64.whl size=3163343 sha256=6cc20f33401cd8967c87c87ddbdd9b83255af7869b7496c7350c02870ced5011\n",
      "  Stored in directory: /root/.cache/pip/wheels/a5/ca/a8/4e28def53797fdc4363ca4af740db15a9c2f1595ebc51fb445\n",
      "Successfully built scikit-surprise\n",
      "Installing collected packages: scikit-surprise\n",
      "Successfully installed scikit-surprise-1.1.3\n"
     ]
    }
   ],
   "source": [
    "!pip install scikit-surprise"
   ]
  },
  {
   "cell_type": "code",
   "execution_count": 7,
   "metadata": {
    "id": "GzLrfxUbPkNA"
   },
   "outputs": [],
   "source": [
    "from scipy import sparse\n",
    "from sklearn.metrics.pairwise import cosine_similarity\n",
    "from sklearn.metrics import mean_squared_error\n",
    "\n",
    "\n",
    "from surprise import Reader, Dataset\n",
    "from surprise import SVD\n",
    "\n",
    "import pandas as pd\n",
    "from datetime import datetime\n",
    "import numpy as np\n"
   ]
  },
  {
   "cell_type": "code",
   "execution_count": 11,
   "metadata": {
    "id": "YA2JerokUdrS"
   },
   "outputs": [],
   "source": [
    "\n"
   ]
  },
  {
   "cell_type": "code",
   "execution_count": null,
   "metadata": {},
   "outputs": [],
   "source": []
  },
  {
   "cell_type": "code",
   "execution_count": null,
   "metadata": {},
   "outputs": [],
   "source": []
  },
  {
   "cell_type": "code",
   "execution_count": null,
   "metadata": {},
   "outputs": [],
   "source": []
  },
  {
   "cell_type": "code",
   "execution_count": null,
   "metadata": {},
   "outputs": [],
   "source": []
  },
  {
   "cell_type": "markdown",
   "metadata": {
    "id": "04DT3dhGLxBb"
   },
   "source": [
    "### B2)SVD Matrix Factorization baseline"
   ]
  },
  {
   "cell_type": "code",
   "execution_count": 5,
   "metadata": {
    "id": "zpYUkYSdLwkq"
   },
   "outputs": [],
   "source": [
    "## data perparation for fitting surprise library model\n",
    "\n",
    "\n",
    "reader = Reader(rating_scale=(1,5))\n",
    "data = Dataset.load_from_df(trainD[['user','moive','rating']],reader)\n",
    "trainset = data.build_full_trainset()\n"
   ]
  },
  {
   "cell_type": "code",
   "execution_count": 6,
   "metadata": {
    "colab": {
     "base_uri": "https://localhost:8080/"
    },
    "id": "hDMSa4QtGNnj",
    "outputId": "25ccf71d-9d49-435c-d865-fe1f872939d1"
   },
   "outputs": [
    {
     "data": {
      "text/plain": [
       "[(1440682, 2342, 3), (957478, 2342, 5), (2016602, 2342, 4)]"
      ]
     },
     "execution_count": 6,
     "metadata": {},
     "output_type": "execute_result"
    }
   ],
   "source": [
    "testset = list(zip(testD['user'].values, testD['moive'].values, testD['rating'].values))\n",
    "testset[:3]"
   ]
  },
  {
   "cell_type": "markdown",
   "metadata": {
    "id": "bq_hScNoaUZA"
   },
   "source": [
    "### Utility function\n",
    "\n",
    "\n",
    "\n"
   ]
  },
  {
   "cell_type": "code",
   "execution_count": 7,
   "metadata": {
    "id": "StK7xnBtMzl4"
   },
   "outputs": [],
   "source": [
    "import random\n",
    "def get_ratings(predictions):\n",
    "    actual = np.array([pred.r_ui for pred in predictions])\n",
    "    predicted = np.array([pred.est for pred in predictions])\n",
    "    return actual, predicted\n",
    "#in surprise prediction of every data point is returned as dictionary like this:\n",
    "#\"user: 196        item: 302        r_ui = 4.00   est = 4.06   {'actual_k': 40, 'was_impossible': False}\"\n",
    "#In this dictionary, \"r_ui\" is a key for actual rating and \"est\" is a key for predicted rating\n",
    "\n",
    "def get_error(predictions):\n",
    "    actual, predicted = get_ratings(predictions)\n",
    "    rmse = np.sqrt(mean_squared_error(actual, predicted))\n",
    "    mape = np.mean(abs((actual - predicted)/actual))*100\n",
    "    return rmse, mape\n"
   ]
  },
  {
   "cell_type": "code",
   "execution_count": 8,
   "metadata": {
    "id": "V7X0d0xuMzjG"
   },
   "outputs": [],
   "source": [
    "my_seed = 10\n",
    "random.seed(my_seed)\n",
    "np.random.seed(my_seed)\n",
    "\n",
    "def run_surprise(algo, trainset, testset, model_name):\n",
    "    startTime = datetime.now()\n",
    "\n",
    "    train = dict()\n",
    "    test = dict()\n",
    "\n",
    "    algo.fit(trainset)\n",
    "    #You can check out above function at \"https://surprise.readthedocs.io/en/stable/getting_started.html\" in\n",
    "    #\"Train-test split and the fit() method\" section\n",
    "\n",
    "#-----------------Evaluating Train Data------------------#\n",
    "    print(\"-\"*50)\n",
    "    print(\"TRAIN DATA\")\n",
    "    train_pred = algo.test(trainset.build_testset())\n",
    "    #You can check out \"algo.test()\" function at \"https://surprise.readthedocs.io/en/stable/getting_started.html\" in\n",
    "    #\"Train-test split and the fit() method\" section\n",
    "    #You can check out \"trainset.build_testset()\" function at \"https://surprise.readthedocs.io/en/stable/FAQ.html#can-i-use-my-own-dataset-with-surprise-and-can-it-be-a-pandas-dataframe\" in\n",
    "    #\"How to get accuracy measures on the training set\" section\n",
    "    train_actual, train_predicted = get_ratings(train_pred)\n",
    "    train_rmse, train_mape = get_error(train_pred)\n",
    "    print(\"RMSE = {}\".format(train_rmse))\n",
    "    print(\"MAPE = {}\".format(train_mape))\n",
    "    print(\"-\"*50)\n",
    "    train = {\"RMSE\": train_rmse, \"MAPE\": train_mape, \"Prediction\": train_predicted}\n",
    "\n",
    "#-----------------Evaluating Test Data------------------#\n",
    "    print(\"TEST DATA\")\n",
    "    test_pred = algo.test(testset)\n",
    "    #You can check out \"algo.test()\" function at \"https://surprise.readthedocs.io/en/stable/getting_started.html\" in\n",
    "    #\"Train-test split and the fit() method\" section\n",
    "    test_actual, test_predicted = get_ratings(test_pred)\n",
    "    test_rmse, test_mape = get_error(test_pred)\n",
    "    print(\"RMSE = {}\".format(test_rmse))\n",
    "    print(\"MAPE = {}\".format(test_mape))\n",
    "    print(\"-\"*50)\n",
    "    test = {\"RMSE\": test_rmse, \"MAPE\": test_mape, \"Prediction\": test_predicted}\n",
    "\n",
    "    print(\"Time Taken = \"+str(datetime.now() - startTime))\n",
    "\n",
    "    make_table(model_name, train_rmse, train_mape, test_rmse, test_mape)\n",
    "\n",
    "    return train, test"
   ]
  },
  {
   "cell_type": "code",
   "execution_count": null,
   "metadata": {
    "colab": {
     "base_uri": "https://localhost:8080/"
    },
    "id": "i1WIb0uNMzXW",
    "outputId": "f8cfccc9-2da2-4568-d952-8a5192a37bbb",
    "scrolled": true
   },
   "outputs": [
    {
     "name": "stdout",
     "output_type": "stream",
     "text": [
      "Processing epoch 0\n",
      "Processing epoch 1\n",
      "Processing epoch 2\n",
      "Processing epoch 3\n",
      "Processing epoch 4\n",
      "Processing epoch 5\n",
      "Processing epoch 6\n",
      "Processing epoch 7\n",
      "Processing epoch 8\n",
      "Processing epoch 9\n",
      "Processing epoch 10\n",
      "Processing epoch 11\n",
      "Processing epoch 12\n",
      "Processing epoch 13\n",
      "Processing epoch 14\n",
      "Processing epoch 15\n",
      "Processing epoch 16\n",
      "Processing epoch 17\n",
      "Processing epoch 18\n",
      "Processing epoch 19\n",
      "--------------------------------------------------\n",
      "TRAIN DATA\n",
      "RMSE = 0.7678664208103144\n",
      "MAPE = 22.97540493423821\n",
      "--------------------------------------------------\n",
      "TEST DATA\n",
      "RMSE = 1.026399422036717\n",
      "MAPE = 30.99440919403442\n",
      "--------------------------------------------------\n",
      "Time Taken = 0:07:39.868596\n"
     ]
    },
    {
     "name": "stderr",
     "output_type": "stream",
     "text": [
      "<ipython-input-3-aa22210bfce4>:8: FutureWarning: The frame.append method is deprecated and will be removed from pandas in a future version. Use pandas.concat instead.\n",
      "  error_table = error_table.append(pd.DataFrame([[model_name, rmse_train, mape_train, rmse_test, mape_test]], columns = [\"Model\", \"Train RMSE\", \"Train MAPE\", \"Test RMSE\", \"Test MAPE\"]))\n"
     ]
    }
   ],
   "source": [
    "# initiallize the model\n",
    "svd = SVD(n_factors=100, biased=True, random_state=15, verbose=True)\n",
    "svd_train_results, svd_test_results = run_surprise(svd, trainset, testset, \"SVD\")\n",
    "\n",
    "model_train_evaluation[\"SVD\"] = svd_train_results\n",
    "model_test_evaluation[\"SVD\"] = svd_test_results"
   ]
  },
  {
   "cell_type": "code",
   "execution_count": null,
   "metadata": {
    "id": "FmKhKDDNovwe"
   },
   "outputs": [],
   "source": []
  },
  {
   "cell_type": "code",
   "execution_count": 10,
   "metadata": {},
   "outputs": [],
   "source": [
    "from collections import defaultdict\n",
    "import json\n",
    "import os\n",
    "def create_movie_user_dict_train(df):\n",
    "\n",
    "    if not os.path.isfile('movie_user_train.json'):\n",
    "        movie_user = defaultdict(list)\n",
    "        # count=0\n",
    "        for iter, row in df.iterrows():\n",
    "            # count+=1\n",
    "            # if count%10000==0:\n",
    "            #   print(count)\n",
    "            movie_user[row[0]].append([row[1], row[2]])\n",
    "        my_json = json.dumps(movie_user)\n",
    "        f = open(\"movie_user_train.json\",\"w\")\n",
    "        f.write(my_json)\n",
    "        f.close()\n",
    "    else:\n",
    "        print(\"opening json file\")\n",
    "        with open('movie_user_train.json') as json_file:\n",
    "          movie_user = json.load(json_file)\n",
    "    print('movie_user_train.json loaded')\n",
    "    return movie_user\n",
    "\n",
    "def create_user_movie_dict_train(df):\n",
    "\n",
    "    if not os.path.isfile('user_movie_train.json'):\n",
    "        user_movie = defaultdict(list)\n",
    "        for iter, row in df.iterrows():\n",
    "            user_movie[row[1]].append([row[0], row[2]])\n",
    "        my_json = json.dumps(user_movie)\n",
    "        f = open(\"user_movie_train.json\",\"w\")\n",
    "        f.write(my_json)\n",
    "        f.close()\n",
    "    else:\n",
    "        print(\"opening json file\")\n",
    "        with open('user_movie_train.json') as json_file:\n",
    "          user_movie = json.load(json_file)\n",
    "    print('user_movie_train.json loaded')\n",
    "    return user_movie\n",
    "\n",
    "\n",
    "def create_movie_user_dict_test(df):\n",
    "\n",
    "    if not os.path.isfile('movie_user_test.json'):\n",
    "        movie_user = defaultdict(list)\n",
    "        for iter, row in df.iterrows():\n",
    "            movie_user[row[0]].append([row[1], row[2]])\n",
    "        my_json = json.dumps(movie_user)\n",
    "        f = open(\"movie_user_test.json\",\"w\")\n",
    "        f.write(my_json)\n",
    "        f.close()\n",
    "    else:\n",
    "        print(\"opening json file\")\n",
    "        with open('movie_user_test.json') as json_file:\n",
    "          movie_user = json.load(json_file)\n",
    "    print('movie_user_test.json loaded')\n",
    "    return movie_user\n",
    "\n",
    "def create_user_movie_dict_test(df):\n",
    "\n",
    "    if not os.path.isfile('user_movie_test.json'):\n",
    "        user_movie = defaultdict(list)\n",
    "        for iter, row in df.iterrows():\n",
    "            user_movie[row[1]].append([row[0], row[2]])\n",
    "        my_json = json.dumps(user_movie)\n",
    "        f = open(\"user_movie_test.json\",\"w\")\n",
    "        f.write(my_json)\n",
    "        f.close()\n",
    "    else:\n",
    "        print(\"opening json file\")\n",
    "        with open('user_movie_test.json') as json_file:\n",
    "          user_movie = json.load(json_file)\n",
    "    print('user_movie_test.json loaded')\n",
    "    return user_movie"
   ]
  },
  {
   "cell_type": "code",
   "execution_count": 8,
   "metadata": {},
   "outputs": [],
   "source": [
    "import gc"
   ]
  },
  {
   "cell_type": "code",
   "execution_count": 11,
   "metadata": {},
   "outputs": [
    {
     "name": "stdout",
     "output_type": "stream",
     "text": [
      "opening json file\n",
      "movie_user_train.json loaded\n"
     ]
    },
    {
     "data": {
      "text/plain": [
       "0"
      ]
     },
     "execution_count": 11,
     "metadata": {},
     "output_type": "execute_result"
    }
   ],
   "source": [
    "movie_user_train = create_movie_user_dict_train(trainD)\n",
    "gc.collect()"
   ]
  },
  {
   "cell_type": "code",
   "execution_count": 12,
   "metadata": {},
   "outputs": [
    {
     "name": "stdout",
     "output_type": "stream",
     "text": [
      "opening json file\n",
      "user_movie_train.json loaded\n"
     ]
    },
    {
     "data": {
      "text/plain": [
       "0"
      ]
     },
     "execution_count": 12,
     "metadata": {},
     "output_type": "execute_result"
    }
   ],
   "source": [
    "user_movie_train = create_user_movie_dict_train(trainD)\n",
    "gc.collect()"
   ]
  },
  {
   "cell_type": "code",
   "execution_count": 13,
   "metadata": {},
   "outputs": [
    {
     "name": "stdout",
     "output_type": "stream",
     "text": [
      "opening json file\n",
      "movie_user_test.json loaded\n"
     ]
    },
    {
     "data": {
      "text/plain": [
       "0"
      ]
     },
     "execution_count": 13,
     "metadata": {},
     "output_type": "execute_result"
    }
   ],
   "source": [
    "movie_user_test = create_movie_user_dict_test(testD)\n",
    "gc.collect()"
   ]
  },
  {
   "cell_type": "code",
   "execution_count": 14,
   "metadata": {},
   "outputs": [
    {
     "name": "stdout",
     "output_type": "stream",
     "text": [
      "opening json file\n",
      "user_movie_test.json loaded\n"
     ]
    },
    {
     "data": {
      "text/plain": [
       "0"
      ]
     },
     "execution_count": 14,
     "metadata": {},
     "output_type": "execute_result"
    }
   ],
   "source": [
    "user_movie_test = create_user_movie_dict_test(testD)\n",
    "gc.collect()"
   ]
  },
  {
   "cell_type": "markdown",
   "metadata": {},
   "source": [
    "#### building from baseline model  \n",
    "\n",
    "$r_{ui} = \\mu + b_u + b_i$  \n",
    "\n",
    "$\\sum(\\mu+b_u+b_i-r_{ui})^2 + \\lambda(\\sum b_u^2 + \\sum b_i^2)$  \n",
    "\n",
    "Then we could calculate each value when $b_u =0$ or $b_i=0$  \n",
    "\n",
    "\n",
    "$b_u = \\frac{\\sum (r_{ui}-\\mu)}{R_u + \\alpha}$\n",
    "\n",
    "\n",
    "$b_i = \\frac{\\sum (r_{ui}-\\mu - b_u)}{R_m + \\beta}$"
   ]
  },
  {
   "cell_type": "markdown",
   "metadata": {
    "id": "vuyaOvWIo2JQ"
   },
   "source": [
    "### A1) with Biases"
   ]
  },
  {
   "cell_type": "markdown",
   "metadata": {
    "id": "M_fUCgy9o_z0"
   },
   "source": [
    "$r_{ui} = \\mu + b_u + b_i + U_uM_m^T$\n",
    "\n",
    "From the suprise Baseline only model, it inserts biases with user-bias and item-bias.\n",
    "\n",
    "The optimization function:  \n",
    "\n",
    "$$\n",
    "\\sum_{r_{ui}𝟄R_{train}} (r_{ui}-(\\mu +b_u+b_i))^2 + \\lambda(b_u^2 + b_i^2)[min b_u,b_i]\n",
    "$$\n"
   ]
  },
  {
   "cell_type": "markdown",
   "metadata": {
    "id": "DW_f7-zcqSvn"
   },
   "source": [
    "From those equestions, we could build the model."
   ]
  },
  {
   "cell_type": "code",
   "execution_count": 12,
   "metadata": {
    "id": "kkhqy7vPovup"
   },
   "outputs": [
    {
     "name": "stdout",
     "output_type": "stream",
     "text": [
      "step 1 is running\n",
      "rmse is 0.980252, mape is 30.023771\n",
      "step 2 is running\n",
      "rmse is 0.941463, mape is 28.718113\n",
      "step 3 is running\n",
      "rmse is 0.929823, mape is 28.355220\n",
      "step 4 is running\n",
      "rmse is 0.923044, mape is 28.156753\n",
      "step 5 is running\n",
      "rmse is 0.917330, mape is 27.988180\n",
      "step 6 is running\n",
      "rmse is 0.912235, mape is 27.831517\n",
      "step 7 is running\n",
      "rmse is 0.907501, mape is 27.686072\n",
      "step 8 is running\n",
      "rmse is 0.903007, mape is 27.550661\n",
      "step 9 is running\n",
      "rmse is 0.899001, mape is 27.437010\n",
      "step 10 is running\n",
      "rmse is 0.895174, mape is 27.306406\n",
      "step 11 is running\n",
      "rmse is 0.892148, mape is 27.222286\n",
      "step 12 is running\n",
      "rmse is 0.889385, mape is 27.130132\n",
      "step 13 is running\n",
      "rmse is 0.886895, mape is 27.049107\n",
      "step 14 is running\n",
      "rmse is 0.884806, mape is 26.986046\n",
      "step 15 is running\n",
      "rmse is 0.883080, mape is 26.933389\n",
      "step 16 is running\n",
      "rmse is 0.881492, mape is 26.882786\n",
      "step 17 is running\n",
      "rmse is 0.879979, mape is 26.834315\n",
      "step 18 is running\n",
      "rmse is 0.879021, mape is 26.807900\n",
      "step 19 is running\n",
      "rmse is 0.877975, mape is 26.778881\n",
      "step 20 is running\n",
      "rmse is 0.877012, mape is 26.745881\n",
      "rmse is 1.023304, mape is 31.123255\n"
     ]
    }
   ],
   "source": [
    "class SVD:  \n",
    "    def __init__(self,movie_user,user_movie,K=30):  \n",
    "        self.movie_user=movie_user \n",
    "        self.user_movie=user_movie \n",
    "        self.K=K  \n",
    "        self.bi={}  \n",
    "        self.bu={}  \n",
    "        self.qi={}  \n",
    "        self.pu={}  \n",
    "        sum_rating=0\n",
    "        num_rating=0\n",
    "        for key in user_movie.keys():\n",
    "          num_rating+=len(user_movie[key])\n",
    "          for movie_rating in user_movie[key]:\n",
    "            sum_rating+=movie_rating[1]\n",
    "        self.avg=sum_rating/num_rating   \n",
    "        for user_id in list(user_movie.keys()): \n",
    "            uid=user_id\n",
    "            self.bu.setdefault(uid,0)\n",
    "            self.pu.setdefault(uid,np.random.random((self.K,1))/10*np.sqrt(self.K))\n",
    "        for movie_id in list(movie_user.keys()):\n",
    "            iid=movie_id  \n",
    "            self.bi.setdefault(iid,0)   \n",
    "            self.qi.setdefault(iid,np.random.random((self.K,1))/10*np.sqrt(self.K))  \n",
    "    \n",
    "    def predict(self,uid,iid):  #prediction \n",
    "        # set default when users or items never appears.  0\n",
    "        self.bi.setdefault(iid,0)  \n",
    "        self.bu.setdefault(uid,0)  \n",
    "        self.qi.setdefault(iid,np.zeros((self.K,1)))  \n",
    "        self.pu.setdefault(uid,np.zeros((self.K,1)))  \n",
    "        rating=self.avg+self.bi[iid]+self.bu[uid]+np.sum(self.qi[iid]*self.pu[uid]) #prediction formula\n",
    "        # rating in [1,5]\n",
    "        if rating>5:  \n",
    "            rating=5  \n",
    "        if rating<1:  \n",
    "            rating=1  \n",
    "        return rating  \n",
    "      \n",
    "    def train(self,movie_user,steps=20,gamma=0.04,Lambda=0.15):    #trainig  \n",
    "        for step in range(steps):  \n",
    "            print('step',step+1,'is running')  \n",
    "            KK=np.random.permutation(list(movie_user.keys())) \n",
    "            rmse=0.0;mape=0\n",
    "            count1=0\n",
    "            for movie_id in KK:  \n",
    "                for movie_rating in movie_user[movie_id]:  \n",
    "                  iid=movie_id  \n",
    "                  uid=movie_rating[0]  \n",
    "                  rating=movie_rating[1]  \n",
    "                  eui=rating-self.predict(uid, iid)  \n",
    "                  rmse+=eui**2  \n",
    "                  mape+=abs(eui)/rating\n",
    "                  self.bu[uid]+=gamma*(eui-Lambda*self.bu[uid])    \n",
    "                  self.bi[iid]+=gamma*(eui-Lambda*self.bi[iid])  \n",
    "                  tmp=self.qi[iid]  \n",
    "                  self.qi[iid]+=gamma*(eui*self.pu[uid]-Lambda*self.qi[iid])  \n",
    "                  self.pu[uid]+=gamma*(eui*tmp-Lambda*self.pu[uid]) \n",
    "                  count1+=1 \n",
    "            gamma=0.93*gamma  #gamma = 0.93 commona factor\n",
    "            print('rmse is {0:3f}, mape is {1:3f}'.format(np.sqrt(rmse/count1),mape*100/count1))  \n",
    "      \n",
    "    def test(self,movie_user):   \n",
    "        rmse=0.0;mape=0  \n",
    "        count2=0\n",
    "        for movie_id in movie_user.keys(): \n",
    "          for movie_rating in movie_user[movie_id]: \n",
    "            uid=movie_rating[0]  \n",
    "            iid=movie_id  \n",
    "            rating=movie_rating[1]  \n",
    "            eui=rating-self.predict(uid, iid)  \n",
    "            rmse+=eui**2  \n",
    "            mape+=abs(eui)/rating\n",
    "            count2+=1\n",
    "        print('rmse is {0:3f}, mape is {1:3f}'.format(np.sqrt(rmse/count2),mape*100/count2)) \n",
    "\n",
    "if __name__=='__main__':  \n",
    "     \n",
    "    a1=SVD(movie_user_train,user_movie_train,30)    \n",
    "    a1.train(movie_user_train)  \n",
    "    a1.test(movie_user_test)"
   ]
  },
  {
   "cell_type": "code",
   "execution_count": 15,
   "metadata": {
    "colab": {
     "base_uri": "https://localhost:8080/"
    },
    "id": "XWqBq2I6ovsB",
    "outputId": "49c4e747-e90c-4607-d96b-9a07702f3889"
   },
   "outputs": [],
   "source": [
    "a1_rmse =1.0233\n",
    "a1_mape = 31.1232"
   ]
  },
  {
   "cell_type": "code",
   "execution_count": null,
   "metadata": {
    "id": "uL6A3Yxrovp7"
   },
   "outputs": [],
   "source": []
  },
  {
   "cell_type": "markdown",
   "metadata": {
    "id": "P6K_qIdmrkIK"
   },
   "source": [
    "### A2) With implicit feedback\n",
    "\n"
   ]
  },
  {
   "cell_type": "markdown",
   "metadata": {
    "id": "Hh0uEmOVsjyV"
   },
   "source": [
    "$$r_{ui} = \\mu + b_u + b_i + q^T_i(p_u+\\mid I_u\\mid^{-\\frac{1}{2}}\\sum_{j\\in i_u} y_j)\n",
    "$$\n",
    "\n",
    "\n",
    "Optimization:  \n",
    "\n",
    "$$\n",
    "\\sum_{r_{ui}\\in R_{train}}(r_{ui} - \\hat r_{ui})^2 + \\lambda(b_i^2+b_u^2+q_i^2+p_u^2+y_j^2)[min \\space b_u, b_i, q_i, p_u, y_i]\n",
    "$$\n",
    "\n",
    "\n",
    "From those equations, we could build the modewl with implicit feedback."
   ]
  },
  {
   "cell_type": "code",
   "execution_count": 9,
   "metadata": {
    "id": "pCiVv1bSovnW"
   },
   "outputs": [],
   "source": [
    "from surprise import SVDpp"
   ]
  },
  {
   "cell_type": "code",
   "execution_count": 10,
   "metadata": {
    "colab": {
     "base_uri": "https://localhost:8080/"
    },
    "id": "b8rRtroiovlA",
    "outputId": "3d6a2713-d772-4a14-b7af-22e7a1a72c15"
   },
   "outputs": [
    {
     "name": "stdout",
     "output_type": "stream",
     "text": [
      " processing epoch 0\n",
      " processing epoch 1\n",
      " processing epoch 2\n",
      " processing epoch 3\n",
      " processing epoch 4\n",
      " processing epoch 5\n",
      " processing epoch 6\n",
      " processing epoch 7\n",
      " processing epoch 8\n",
      " processing epoch 9\n",
      " processing epoch 10\n",
      " processing epoch 11\n",
      " processing epoch 12\n",
      " processing epoch 13\n",
      " processing epoch 14\n",
      " processing epoch 15\n",
      " processing epoch 16\n",
      " processing epoch 17\n",
      " processing epoch 18\n",
      " processing epoch 19\n",
      "--------------------------------------------------\n",
      "TRAIN DATA\n",
      "RMSE = 0.7666820195018308\n",
      "MAPE = 21.716692823290824\n",
      "--------------------------------------------------\n",
      "TEST DATA\n",
      "RMSE = 1.0296661497866417\n",
      "MAPE = 31.137085579829698\n",
      "--------------------------------------------------\n",
      "Time Taken = 0:36:55.832798\n"
     ]
    },
    {
     "ename": "NameError",
     "evalue": "name 'make_table' is not defined",
     "output_type": "error",
     "traceback": [
      "\u001b[0;31m---------------------------------------------------------------------------\u001b[0m",
      "\u001b[0;31mNameError\u001b[0m                                 Traceback (most recent call last)",
      "Cell \u001b[0;32mIn[10], line 2\u001b[0m\n\u001b[1;32m      1\u001b[0m svdpp \u001b[38;5;241m=\u001b[39m SVDpp(n_factors \u001b[38;5;241m=\u001b[39m\u001b[38;5;241m50\u001b[39m, random_state \u001b[38;5;241m=\u001b[39m \u001b[38;5;241m15\u001b[39m, verbose \u001b[38;5;241m=\u001b[39m \u001b[38;5;28;01mTrue\u001b[39;00m)\n\u001b[0;32m----> 2\u001b[0m svdpp_train_results, svdpp_test_results \u001b[38;5;241m=\u001b[39m \u001b[43mrun_surprise\u001b[49m\u001b[43m(\u001b[49m\u001b[43msvdpp\u001b[49m\u001b[43m,\u001b[49m\u001b[43m \u001b[49m\u001b[43mtrainset\u001b[49m\u001b[43m,\u001b[49m\u001b[43m \u001b[49m\u001b[43mtestset\u001b[49m\u001b[43m,\u001b[49m\u001b[43m \u001b[49m\u001b[38;5;124;43m\"\u001b[39;49m\u001b[38;5;124;43mSVDpp\u001b[39;49m\u001b[38;5;124;43m\"\u001b[39;49m\u001b[43m)\u001b[49m\n\u001b[1;32m      4\u001b[0m model_train_evaluation[\u001b[38;5;124m\"\u001b[39m\u001b[38;5;124mSVDpp\u001b[39m\u001b[38;5;124m\"\u001b[39m] \u001b[38;5;241m=\u001b[39m svdpp_train_results\n\u001b[1;32m      5\u001b[0m model_test_evaluation[\u001b[38;5;124m\"\u001b[39m\u001b[38;5;124mSVDpp\u001b[39m\u001b[38;5;124m\"\u001b[39m] \u001b[38;5;241m=\u001b[39m svdpp_test_results\n",
      "Cell \u001b[0;32mIn[8], line 44\u001b[0m, in \u001b[0;36mrun_surprise\u001b[0;34m(algo, trainset, testset, model_name)\u001b[0m\n\u001b[1;32m     40\u001b[0m test \u001b[38;5;241m=\u001b[39m {\u001b[38;5;124m\"\u001b[39m\u001b[38;5;124mRMSE\u001b[39m\u001b[38;5;124m\"\u001b[39m: test_rmse, \u001b[38;5;124m\"\u001b[39m\u001b[38;5;124mMAPE\u001b[39m\u001b[38;5;124m\"\u001b[39m: test_mape, \u001b[38;5;124m\"\u001b[39m\u001b[38;5;124mPrediction\u001b[39m\u001b[38;5;124m\"\u001b[39m: test_predicted}\n\u001b[1;32m     42\u001b[0m \u001b[38;5;28mprint\u001b[39m(\u001b[38;5;124m\"\u001b[39m\u001b[38;5;124mTime Taken = \u001b[39m\u001b[38;5;124m\"\u001b[39m\u001b[38;5;241m+\u001b[39m\u001b[38;5;28mstr\u001b[39m(datetime\u001b[38;5;241m.\u001b[39mnow() \u001b[38;5;241m-\u001b[39m startTime))\n\u001b[0;32m---> 44\u001b[0m \u001b[43mmake_table\u001b[49m(model_name, train_rmse, train_mape, test_rmse, test_mape)\n\u001b[1;32m     46\u001b[0m \u001b[38;5;28;01mreturn\u001b[39;00m train, test\n",
      "\u001b[0;31mNameError\u001b[0m: name 'make_table' is not defined"
     ]
    }
   ],
   "source": [
    "svdpp = SVDpp(n_factors =50, random_state = 15, verbose = True)\n",
    "svdpp_train_results, svdpp_test_results = run_surprise(svdpp, trainset, testset, \"SVDpp\")\n",
    "\n",
    "model_train_evaluation[\"SVDpp\"] = svdpp_train_results\n",
    "model_test_evaluation[\"SVDpp\"] = svdpp_test_results"
   ]
  },
  {
   "cell_type": "code",
   "execution_count": 17,
   "metadata": {
    "id": "lySG7xX_oviZ",
    "scrolled": true
   },
   "outputs": [],
   "source": [
    "a2_rmse =1.0296\n",
    "a2_mape = 31.1371"
   ]
  },
  {
   "cell_type": "markdown",
   "metadata": {},
   "source": [
    "### A3) Temporal Dynamic 1"
   ]
  },
  {
   "cell_type": "markdown",
   "metadata": {},
   "source": [
    "$r_{ui}(t) = \\mu + b_u + b_i + b_{i,bin(t)}$  "
   ]
  },
  {
   "cell_type": "code",
   "execution_count": 18,
   "metadata": {},
   "outputs": [],
   "source": [
    "from collections import defaultdict\n",
    "import json\n",
    "def create_movie_user_dict_train_date(df):\n",
    "\n",
    "    if not os.path.isfile('movie_user_train_date.json'):\n",
    "        movie_user = defaultdict(list)\n",
    "        # count=0\n",
    "        for iter, row in df.iterrows():\n",
    "\n",
    "            movie_user[row[3].year].append([row[0], row[1], row[2]])\n",
    "        my_json = json.dumps(movie_user)\n",
    "        f = open(\"movie_user_train_date.json\",\"w\")\n",
    "        f.write(my_json)\n",
    "        f.close()\n",
    "    else:\n",
    "        print(\"opening json file\")\n",
    "        with open('movie_user_train_date.json') as json_file:\n",
    "          movie_user = json.load(json_file)\n",
    "    print('movie_user_train_date.json loaded')\n",
    "    return movie_user\n",
    "\n",
    "def create_movie_user_dict_test_date(df):\n",
    "\n",
    "    if not os.path.isfile('movie_user_test_date.json'):\n",
    "        movie_user = defaultdict(list)\n",
    "        for iter, row in df.iterrows():\n",
    "            movie_user[row[3].year].append([row[0], row[1], row[2]])\n",
    "        my_json = json.dumps(movie_user)\n",
    "        f = open(\"movie_user_test_date.json\",\"w\")\n",
    "        f.write(my_json)\n",
    "        f.close()\n",
    "    else:\n",
    "        print(\"opening json file\")\n",
    "        with open('movie_user_test_date.json') as json_file:\n",
    "          movie_user = json.load(json_file)\n",
    "    print('movie_user_test_date.json loaded')\n",
    "    return movie_user"
   ]
  },
  {
   "cell_type": "code",
   "execution_count": 19,
   "metadata": {},
   "outputs": [],
   "source": [
    "import gc\n"
   ]
  },
  {
   "cell_type": "code",
   "execution_count": 20,
   "metadata": {},
   "outputs": [
    {
     "name": "stdout",
     "output_type": "stream",
     "text": [
      "movie_user_train_date.json loaded\n"
     ]
    },
    {
     "data": {
      "text/plain": [
       "0"
      ]
     },
     "execution_count": 20,
     "metadata": {},
     "output_type": "execute_result"
    }
   ],
   "source": [
    "movie_user_train_date = create_movie_user_dict_train_date(trainD)\n",
    "gc.collect()"
   ]
  },
  {
   "cell_type": "code",
   "execution_count": 21,
   "metadata": {},
   "outputs": [
    {
     "name": "stdout",
     "output_type": "stream",
     "text": [
      "movie_user_test_date.json loaded\n"
     ]
    },
    {
     "data": {
      "text/plain": [
       "0"
      ]
     },
     "execution_count": 21,
     "metadata": {},
     "output_type": "execute_result"
    }
   ],
   "source": [
    "movie_user_test_date = create_movie_user_dict_test_date(testD)\n",
    "gc.collect()"
   ]
  },
  {
   "cell_type": "code",
   "execution_count": 23,
   "metadata": {},
   "outputs": [],
   "source": [
    "import random"
   ]
  },
  {
   "cell_type": "code",
   "execution_count": 24,
   "metadata": {},
   "outputs": [
    {
     "name": "stdout",
     "output_type": "stream",
     "text": [
      "step 1 is running\n",
      "rmse is 0.967222, mape is 29.981707\n",
      "step 2 is running\n",
      "rmse is 0.930831, mape is 28.571019\n",
      "step 3 is running\n",
      "rmse is 0.920173, mape is 28.160160\n",
      "step 4 is running\n",
      "rmse is 0.914258, mape is 27.935809\n",
      "step 5 is running\n",
      "rmse is 0.910293, mape is 27.786628\n",
      "step 6 is running\n",
      "rmse is 0.907334, mape is 27.679886\n",
      "step 7 is running\n",
      "rmse is 0.904942, mape is 27.593672\n",
      "step 8 is running\n",
      "rmse is 0.902979, mape is 27.525113\n",
      "step 9 is running\n",
      "rmse is 0.901301, mape is 27.467755\n",
      "step 10 is running\n",
      "rmse is 0.899830, mape is 27.417144\n",
      "rmse is 1.022101, mape is 31.071985\n"
     ]
    }
   ],
   "source": [
    "class SVDTD1:  \n",
    "    def __init__(self,movie_user,user_movie,movie_user_date,K=30):  \n",
    "        self.movie_user=movie_user \n",
    "        self.user_movie=user_movie\n",
    "        self.movie_user_date=movie_user_date\n",
    "        self.K=K  \n",
    "        self.bi=defaultdict(dict)  \n",
    "        self.bu=defaultdict(dict)\n",
    "        self.qi={}  \n",
    "        self.pu={}  \n",
    "        sum_rating=0\n",
    "        num_rating=0\n",
    "        for key in user_movie.keys():\n",
    "            num_rating+=len(user_movie[key])\n",
    "            for movie_rating in user_movie[key]:\n",
    "                sum_rating+=movie_rating[1]\n",
    "        self.avg=sum_rating/num_rating  \n",
    "        for year in movie_user_date.keys():\n",
    "            for movie_user_rating in  movie_user_date[year]:\n",
    "                self.bi[year].setdefault(movie_user_rating[0],0)\n",
    "                self.bu[year].setdefault(movie_user_rating[1],0)\n",
    "\n",
    "        for user_id in list(user_movie.keys()): \n",
    "            uid=user_id\n",
    "            self.pu.setdefault(uid,np.random.random((self.K,1))/10*np.sqrt(self.K))\n",
    "\n",
    "        for movie_id in list(movie_user.keys()):\n",
    "            iid=movie_id    \n",
    "            self.qi.setdefault(iid,np.random.random((self.K,1))/10*np.sqrt(self.K))  \n",
    "            \n",
    "    def predict(self,uid,iid,year):  \n",
    "        #default = 0 \n",
    "        self.bi[year].setdefault(iid,0)  \n",
    "        self.bu[year].setdefault(uid,0)  \n",
    "        self.qi.setdefault(iid,np.zeros((self.K,1)))  \n",
    "        self.pu.setdefault(uid,np.zeros((self.K,1)))  \n",
    "        rating=self.avg+self.bi[year][iid]+self.bu[year][uid]+np.sum(self.qi[iid]*self.pu[uid])  \n",
    "        #range [1,5]  \n",
    "        if rating>5:  \n",
    "            rating=5  \n",
    "        if rating<1:  \n",
    "            rating=1  \n",
    "        return rating  \n",
    "      \n",
    "    def train(self,movie_user_date,steps=10,gamma=0.04,Lambda=0.15):  # step =10;  \n",
    "        mape_last=10000\n",
    "        for step in range(steps):  \n",
    "            print('step',step+1,'is running')  \n",
    "            \n",
    "            rmse=0.0;mape=0\n",
    "            count1=0\n",
    "            \n",
    "            for year in movie_user_train_date.keys():\n",
    "                random.shuffle(movie_user_date[year]) \n",
    "                for movie_user_rating in movie_user_date[year]:  \n",
    "                    iid=movie_user_rating[0]  \n",
    "                    uid=movie_user_rating[1]  \n",
    "                    rating=movie_user_rating[2]  \n",
    "                    eui=rating-self.predict(uid, iid, year)  \n",
    "                    rmse+=eui**2  \n",
    "                    mape+=abs(eui)/rating\n",
    "                    self.bu[year][uid]+=gamma*(eui-Lambda*self.bu[year][uid])    \n",
    "                    self.bi[year][iid]+=gamma*(eui-Lambda*self.bi[year][iid])  \n",
    "                    tmp=self.qi[iid]  \n",
    "                    self.qi[iid]+=gamma*(eui*self.pu[uid]-Lambda*self.qi[iid])  \n",
    "                    self.pu[uid]+=gamma*(eui*tmp-Lambda*self.pu[uid]) \n",
    "                    count1+=1 \n",
    "            \n",
    "            gamma=0.93*gamma  # common factor 0.93 \n",
    "            mape_avg=mape*100/count1\n",
    "            print('rmse is {0:3f}, mape is {1:3f}'.format(np.sqrt(rmse/count1),mape_avg))\n",
    "            if mape_avg>mape_last:\n",
    "                break\n",
    "            mape_last=mape_avg \n",
    "      \n",
    "    def test(self,movie_user_test_date):   \n",
    "        rmse=0.0;mape=0  \n",
    "        count2=0\n",
    "        rating_a3=[]\n",
    "        prediction_a3=[]\n",
    "        for year in movie_user_test_date.keys(): \n",
    "            for movie_user_rating in movie_user_test_date[year]: \n",
    "                uid=movie_user_rating[1]  \n",
    "                iid=movie_user_rating[0]  \n",
    "                rating=movie_user_rating[2]\n",
    "                rating_a3.append(rating)  \n",
    "                prediction=self.predict(uid, iid, year)\n",
    "                prediction_a3.append(prediction)\n",
    "                eui=rating-prediction  \n",
    "                rmse+=eui**2  \n",
    "                mape+=abs(eui)/rating\n",
    "                count2+=1\n",
    "        print('rmse is {0:3f}, mape is {1:3f}'.format(np.sqrt(rmse/count2),mape*100/count2)) \n",
    "        rating_a3_csv=pd.DataFrame(data=rating_a3)\n",
    "        prediction_a3_csv=pd.DataFrame(data=prediction_a3)\n",
    "        rating_a3_csv.to_csv('rating_a3.csv',encoding='utf-8')\n",
    "        prediction_a3_csv.to_csv('prediction_a3.csv',encoding='utf-8') \n",
    "    \n",
    "if __name__=='__main__':\n",
    "    a3=SVDTD1(movie_user_train,user_movie_train,movie_user_train_date,30)\n",
    "    a3.train(movie_user_train_date)\n",
    "    a3.test(movie_user_test_date)"
   ]
  },
  {
   "cell_type": "code",
   "execution_count": 25,
   "metadata": {},
   "outputs": [],
   "source": [
    "a3_rmse=1.0221\n",
    "a3_mape=31.0719"
   ]
  },
  {
   "cell_type": "code",
   "execution_count": null,
   "metadata": {},
   "outputs": [],
   "source": []
  },
  {
   "cell_type": "markdown",
   "metadata": {},
   "source": [
    "### A4) temporal II"
   ]
  },
  {
   "cell_type": "code",
   "execution_count": null,
   "metadata": {},
   "outputs": [],
   "source": []
  },
  {
   "cell_type": "markdown",
   "metadata": {},
   "source": [
    "$r_{ui}(t) = \\mu + b_u(t) + b_i(t) + q_i^T * M$    \n",
    "\n",
    "$M = (p_u(t) + \\mid R(u) \\mid^{\\frac{-1}{2}} \\sum y_j)$"
   ]
  },
  {
   "cell_type": "code",
   "execution_count": 28,
   "metadata": {},
   "outputs": [
    {
     "name": "stdout",
     "output_type": "stream",
     "text": [
      "step 1 is running\n",
      "rmse is 0.984688, mape is 30.169896\n",
      "rmse is 1.030398, mape is 31.773973\n"
     ]
    }
   ],
   "source": [
    "class SVDTD2:  \n",
    "    def __init__(self,movie_user,user_movie,movie_user_date,K=30):  \n",
    "        self.movie_user=movie_user \n",
    "        self.user_movie=user_movie\n",
    "        self.movie_user_date=movie_user_date\n",
    "        self.K=K  \n",
    "        self.bi=defaultdict(dict)  \n",
    "        self.bu=defaultdict(dict)\n",
    "        self.qi={}  \n",
    "        self.pu=defaultdict(dict)  \n",
    "        sum_rating=0\n",
    "        num_rating=0\n",
    "        for key in user_movie.keys():\n",
    "            num_rating+=len(user_movie[key])\n",
    "            for movie_rating in user_movie[key]:\n",
    "                sum_rating+=movie_rating[1]\n",
    "        self.avg=sum_rating/num_rating  \n",
    "        for year in movie_user_date.keys():\n",
    "            for movie_user_rating in  movie_user_date[year]:\n",
    "                self.bi[year].setdefault(movie_user_rating[0],0)\n",
    "                self.bu[year].setdefault(movie_user_rating[1],0)\n",
    "                self.pu[year].setdefault(movie_user_rating[1],np.random.random((self.K,1))/10*np.sqrt(self.K))\n",
    "\n",
    "        for movie_id in list(movie_user.keys()):\n",
    "            iid=movie_id    \n",
    "            self.qi.setdefault(iid,np.random.random((self.K,1))/10*np.sqrt(self.K))  \n",
    "    \n",
    "    def predict(self,uid,iid,year):   \n",
    "        # default = 0\n",
    "        self.bi[year].setdefault(iid,0)  \n",
    "        self.bu[year].setdefault(uid,0)  \n",
    "        self.qi.setdefault(iid,np.zeros((self.K,1)))  \n",
    "        self.pu[year].setdefault(uid,np.zeros((self.K,1)))  \n",
    "        rating=self.avg+self.bi[year][iid]+self.bu[year][uid]+np.sum(self.qi[iid]*self.pu[year][uid]) #预测评分公式  \n",
    "        # range [1,5]\n",
    "        if rating>5:  \n",
    "            rating=5  \n",
    "        if rating<1:  \n",
    "            rating=1  \n",
    "        return rating  \n",
    "      \n",
    "    def train(self,movie_user_date,steps=10,gamma=0.04,Lambda=0.15):    # step=10  \n",
    "        mape_last=10000\n",
    "        for step in range(steps):  \n",
    "            print('step',step+1,'is running')  \n",
    "            \n",
    "            rmse=0.0;mape=0\n",
    "            count1=0\n",
    "            \n",
    "            for year in movie_user_train_date.keys():\n",
    "                random.shuffle(movie_user_date[year])\n",
    "                for movie_user_rating in movie_user_date[year]:  \n",
    "                    iid=movie_user_rating[0]  \n",
    "                    uid=movie_user_rating[1]  \n",
    "                    rating=movie_user_rating[2]  \n",
    "                    eui=rating-self.predict(uid, iid, year)  \n",
    "                    rmse+=eui**2  \n",
    "                    mape+=abs(eui)/rating\n",
    "                    self.bu[year][uid]+=gamma*(eui-Lambda*self.bu[year][uid])    \n",
    "                    self.bi[year][iid]+=gamma*(eui-Lambda*self.bi[year][iid])  \n",
    "                    tmp=self.qi[iid]  \n",
    "                    self.qi[iid]+=gamma*(eui*self.pu[year][uid]-Lambda*self.qi[iid])  \n",
    "                    self.pu[year][uid]+=gamma*(eui*tmp-Lambda*self.pu[year][uid]) \n",
    "                    count1+=1 \n",
    "            gamma=0.93*gamma  #gama = 0.93 \n",
    "            print('rmse is {0:3f}, mape is {1:3f}'.format(np.sqrt(rmse/count1),mape*100/count1))\n",
    "            if mape>mape_last:\n",
    "                break\n",
    "            mape_last=mape \n",
    "      \n",
    "    def test(self,movie_user_test_date):   \n",
    "        rmse=0.0;mape=0  \n",
    "        count2=0\n",
    "        rating_a4=[]\n",
    "        prediction_a4=[]\n",
    "        for year in movie_user_test_date.keys(): \n",
    "            for movie_user_rating in movie_user_test_date[year]: \n",
    "                uid=movie_user_rating[1]  \n",
    "                iid=movie_user_rating[0]  \n",
    "                rating=movie_user_rating[2]\n",
    "                rating_a4.append(rating)\n",
    "                prediction=self.predict(uid, iid, year)\n",
    "                prediction_a4.append(prediction)\n",
    "                eui=rating-prediction  \n",
    "                rmse+=eui**2  \n",
    "                mape+=abs(eui)/rating\n",
    "                count2+=1\n",
    "        print('rmse is {0:3f}, mape is {1:3f}'.format(np.sqrt(rmse/count2),mape*100/count2))\n",
    "        rating_a4_csv=pd.DataFrame(data=rating_a4)\n",
    "        prediction_a4_csv=pd.DataFrame(data=prediction_a4)\n",
    "        rating_a4_csv.to_csv('rating_a4.csv',encoding='utf-8')\n",
    "        prediction_a4_csv.to_csv('prediction_a4.csv',encoding='utf-8')  \n",
    "\n",
    "if __name__=='__main__':\n",
    "    a4=SVDTD2(movie_user_train,user_movie_train,movie_user_train_date,30)\n",
    "    a4.train(movie_user_train_date)\n",
    "    a4.test(movie_user_test_date)"
   ]
  },
  {
   "cell_type": "code",
   "execution_count": 29,
   "metadata": {},
   "outputs": [],
   "source": [
    "a4_rmse=1.0303\n",
    "a4_mape=31.7739\n"
   ]
  },
  {
   "cell_type": "markdown",
   "metadata": {},
   "source": [
    "## RMSE & MAPE result comparsion"
   ]
  },
  {
   "cell_type": "code",
   "execution_count": 31,
   "metadata": {},
   "outputs": [],
   "source": [
    "## a1_rmse =1.0233\n",
    "## a1_mape = 31.1232\n",
    "\n",
    "## a2_rmse =1.0296\n",
    "## a2_mape = 31.1371\n",
    "\n",
    "## a3_rmse=1.0221\n",
    "## a3_mape=31.0719\n",
    "\n",
    "## a4_rmse=1.0303\n",
    "## a4_mape=31.7739\n",
    "\n",
    "## xgboost with initial 2 features (hw1)\n",
    "# b1_rmse =0.9805\n",
    "# b2_mape =30.8851\n",
    "\n",
    "## KNNbaseline\n",
    "# b2_rmse= 1.073\n",
    "# b2_mape= 35.021\n",
    "\n",
    "## SVD (hw1)\n",
    "# b3_rmse= 0.9319\n",
    "# b3_mape= 30.8193\n"
   ]
  },
  {
   "cell_type": "markdown",
   "metadata": {},
   "source": [
    "From the graph, the XGB and movie temporal has the lowest rmse value. For the model of XGB only contain 2 inputs, and I consider it is underfitting.  Thus, the movie temporal and SVD with biases are good models. "
   ]
  },
  {
   "cell_type": "code",
   "execution_count": 32,
   "metadata": {},
   "outputs": [],
   "source": [
    "list_rmse=[b1_rmse,b2_rmse,b3_rmse,a1_rmse,a2_rmse,a3_rmse,a4_rmse]\n",
    "list_mape=[b1_mape,b2_mape,b3_mape,a1_mape,a2_mape,a3_mape,a4_mape]\n",
    "list_model=['b1', 'b2', 'b3', 'a1', 'a2', 'a3', 'a4']"
   ]
  },
  {
   "cell_type": "code",
   "execution_count": 36,
   "metadata": {},
   "outputs": [
    {
     "name": "stderr",
     "output_type": "stream",
     "text": [
      "No artists with labels found to put in legend.  Note that artists whose label start with an underscore are ignored when legend() is called with no argument.\n"
     ]
    },
    {
     "data": {
      "image/png": "[encoded data removed]",
      "text/plain": [
       "<Figure size 640x480 with 1 Axes>"
      ]
     },
     "metadata": {},
     "output_type": "display_data"
    }
   ],
   "source": [
    "plt.bar(list_model, list_rmse, color='skyblue')\n",
    "plt.title('RMSE')\n",
    "plt.legend()\n",
    "plt.show()"
   ]
  },
  {
   "cell_type": "code",
   "execution_count": 38,
   "metadata": {},
   "outputs": [
    {
     "name": "stderr",
     "output_type": "stream",
     "text": [
      "No artists with labels found to put in legend.  Note that artists whose label start with an underscore are ignored when legend() is called with no argument.\n"
     ]
    },
    {
     "data": {
      "image/png": "[encoded data removed]",
      "text/plain": [
       "<Figure size 640x480 with 1 Axes>"
      ]
     },
     "metadata": {},
     "output_type": "display_data"
    }
   ],
   "source": [
    "plt.bar(list_model, list_mape, color='skyblue')\n",
    "plt.title('MAPE')\n",
    "plt.legend()\n",
    "plt.show()"
   ]
  },
  {
   "cell_type": "markdown",
   "metadata": {},
   "source": [
    "From MAPE and RMSE, the a1 is best model. Although b3 shows performance better, I could consider there are underfit or overfit going on at this model. b3 is SVD baseline model peformance without bias. A1 is MF with bias to calculate the item-users. Thus, A1 is the best model. "
   ]
  }
 ],
 "metadata": {
  "colab": {
   "provenance": []
  },
  "kernelspec": {
   "display_name": "Python 3 (ipykernel)",
   "language": "python",
   "name": "python3"
  },
  "language_info": {
   "codemirror_mode": {
    "name": "ipython",
    "version": 3
   },
   "file_extension": ".py",
   "mimetype": "text/x-python",
   "name": "python",
   "nbconvert_exporter": "python",
   "pygments_lexer": "ipython3",
   "version": "3.9.18"
  }
 },
 "nbformat": 4,
 "nbformat_minor": 1
}
